{
 "cells": [
  {
   "cell_type": "code",
   "execution_count": 1,
   "id": "52c98b2b-513f-4128-a18d-ff5a75022b60",
   "metadata": {},
   "outputs": [],
   "source": [
    "import numpy as np\n",
    "import pandas as pd\n",
    "import matplotlib.pyplot as plt\n",
    "from sklearn.preprocessing import MinMaxScaler"
   ]
  },
  {
   "cell_type": "code",
   "execution_count": 2,
   "id": "f6a2c625-8953-4121-8b8b-7e05b03a97f6",
   "metadata": {},
   "outputs": [],
   "source": [
    "from PythonAPI import *"
   ]
  },
  {
   "cell_type": "code",
   "execution_count": 3,
   "id": "3e11fed5-9feb-4260-ab7d-92e743ee7a53",
   "metadata": {},
   "outputs": [
    {
     "data": {
      "text/plain": [
       "'OK'"
      ]
     },
     "execution_count": 3,
     "metadata": {},
     "output_type": "execute_result"
    }
   ],
   "source": [
    "check_connection()"
   ]
  },
  {
   "cell_type": "code",
   "execution_count": 4,
   "id": "5bed8883-8550-4ba1-b5d4-553806ce6aa5",
   "metadata": {},
   "outputs": [],
   "source": [
    "user = \"team13\"\n",
    "password = \"tS2KbTei]b84\""
   ]
  },
  {
   "cell_type": "code",
   "execution_count": 5,
   "id": "958922c3-b83b-4a6f-870d-06751ee8b2ba",
   "metadata": {},
   "outputs": [
    {
     "data": {
      "text/plain": [
       "'Accuracy=0.8588032258064516, precision=0.25949880464480873, recall=0.5724443188774309, AUC=0.7870225345957101'"
      ]
     },
     "execution_count": 5,
     "metadata": {},
     "output_type": "execute_result"
    }
   ],
   "source": [
    "check_status(user, password)"
   ]
  },
  {
   "cell_type": "code",
   "execution_count": 18,
   "id": "00b29175-ebc3-4887-92f5-697f81daa3d0",
   "metadata": {},
   "outputs": [],
   "source": [
    "df = pd.read_csv(\"variable.csv\", index_col=0)\n",
    "y = df[\"Target\"]\n",
    "\n",
    "df2 = pd.read_csv(\"variable_oot.csv\", index_col=0)\n",
    "y2 = df2[\"Target\"]"
   ]
  },
  {
   "cell_type": "code",
   "execution_count": 19,
   "id": "22ab3c7e-d61d-4499-993e-b4ec197a031a",
   "metadata": {},
   "outputs": [
    {
     "data": {
      "text/html": [
       "<div>\n",
       "<style scoped>\n",
       "    .dataframe tbody tr th:only-of-type {\n",
       "        vertical-align: middle;\n",
       "    }\n",
       "\n",
       "    .dataframe tbody tr th {\n",
       "        vertical-align: top;\n",
       "    }\n",
       "\n",
       "    .dataframe thead th {\n",
       "        text-align: right;\n",
       "    }\n",
       "</style>\n",
       "<table border=\"1\" class=\"dataframe\">\n",
       "  <thead>\n",
       "    <tr style=\"text-align: right;\">\n",
       "      <th></th>\n",
       "      <th>DPD_term_loan_H2</th>\n",
       "      <th>Default_flag_H1</th>\n",
       "      <th>Default_flag_H2</th>\n",
       "      <th>DPD_term_loan_H3</th>\n",
       "      <th>Default_flag_H3</th>\n",
       "      <th>Default_flag_H4</th>\n",
       "      <th>DPD_term_loan_H6</th>\n",
       "      <th>Default_flag_H5</th>\n",
       "      <th>DPD_term_loan_H4</th>\n",
       "      <th>Target</th>\n",
       "    </tr>\n",
       "    <tr>\n",
       "      <th>Customer_id</th>\n",
       "      <th></th>\n",
       "      <th></th>\n",
       "      <th></th>\n",
       "      <th></th>\n",
       "      <th></th>\n",
       "      <th></th>\n",
       "      <th></th>\n",
       "      <th></th>\n",
       "      <th></th>\n",
       "      <th></th>\n",
       "    </tr>\n",
       "  </thead>\n",
       "  <tbody>\n",
       "    <tr>\n",
       "      <th>33344475</th>\n",
       "      <td>0</td>\n",
       "      <td>0</td>\n",
       "      <td>0</td>\n",
       "      <td>0</td>\n",
       "      <td>0</td>\n",
       "      <td>0</td>\n",
       "      <td>23</td>\n",
       "      <td>0</td>\n",
       "      <td>0</td>\n",
       "      <td>0</td>\n",
       "    </tr>\n",
       "    <tr>\n",
       "      <th>38290809</th>\n",
       "      <td>0</td>\n",
       "      <td>0</td>\n",
       "      <td>0</td>\n",
       "      <td>0</td>\n",
       "      <td>0</td>\n",
       "      <td>0</td>\n",
       "      <td>27</td>\n",
       "      <td>1</td>\n",
       "      <td>0</td>\n",
       "      <td>0</td>\n",
       "    </tr>\n",
       "    <tr>\n",
       "      <th>33178125</th>\n",
       "      <td>10</td>\n",
       "      <td>0</td>\n",
       "      <td>0</td>\n",
       "      <td>0</td>\n",
       "      <td>0</td>\n",
       "      <td>0</td>\n",
       "      <td>0</td>\n",
       "      <td>0</td>\n",
       "      <td>0</td>\n",
       "      <td>0</td>\n",
       "    </tr>\n",
       "    <tr>\n",
       "      <th>37129367</th>\n",
       "      <td>29</td>\n",
       "      <td>0</td>\n",
       "      <td>0</td>\n",
       "      <td>29</td>\n",
       "      <td>0</td>\n",
       "      <td>0</td>\n",
       "      <td>0</td>\n",
       "      <td>0</td>\n",
       "      <td>29</td>\n",
       "      <td>0</td>\n",
       "    </tr>\n",
       "    <tr>\n",
       "      <th>31904710</th>\n",
       "      <td>0</td>\n",
       "      <td>0</td>\n",
       "      <td>0</td>\n",
       "      <td>0</td>\n",
       "      <td>0</td>\n",
       "      <td>0</td>\n",
       "      <td>0</td>\n",
       "      <td>0</td>\n",
       "      <td>16</td>\n",
       "      <td>0</td>\n",
       "    </tr>\n",
       "    <tr>\n",
       "      <th>...</th>\n",
       "      <td>...</td>\n",
       "      <td>...</td>\n",
       "      <td>...</td>\n",
       "      <td>...</td>\n",
       "      <td>...</td>\n",
       "      <td>...</td>\n",
       "      <td>...</td>\n",
       "      <td>...</td>\n",
       "      <td>...</td>\n",
       "      <td>...</td>\n",
       "    </tr>\n",
       "    <tr>\n",
       "      <th>31104928</th>\n",
       "      <td>0</td>\n",
       "      <td>0</td>\n",
       "      <td>0</td>\n",
       "      <td>0</td>\n",
       "      <td>0</td>\n",
       "      <td>0</td>\n",
       "      <td>0</td>\n",
       "      <td>0</td>\n",
       "      <td>0</td>\n",
       "      <td>0</td>\n",
       "    </tr>\n",
       "    <tr>\n",
       "      <th>38699158</th>\n",
       "      <td>0</td>\n",
       "      <td>0</td>\n",
       "      <td>0</td>\n",
       "      <td>9</td>\n",
       "      <td>0</td>\n",
       "      <td>0</td>\n",
       "      <td>22</td>\n",
       "      <td>0</td>\n",
       "      <td>0</td>\n",
       "      <td>0</td>\n",
       "    </tr>\n",
       "    <tr>\n",
       "      <th>37435274</th>\n",
       "      <td>0</td>\n",
       "      <td>0</td>\n",
       "      <td>0</td>\n",
       "      <td>0</td>\n",
       "      <td>0</td>\n",
       "      <td>0</td>\n",
       "      <td>0</td>\n",
       "      <td>0</td>\n",
       "      <td>0</td>\n",
       "      <td>0</td>\n",
       "    </tr>\n",
       "    <tr>\n",
       "      <th>36145194</th>\n",
       "      <td>0</td>\n",
       "      <td>0</td>\n",
       "      <td>0</td>\n",
       "      <td>0</td>\n",
       "      <td>0</td>\n",
       "      <td>0</td>\n",
       "      <td>0</td>\n",
       "      <td>0</td>\n",
       "      <td>0</td>\n",
       "      <td>0</td>\n",
       "    </tr>\n",
       "    <tr>\n",
       "      <th>37156247</th>\n",
       "      <td>0</td>\n",
       "      <td>0</td>\n",
       "      <td>0</td>\n",
       "      <td>29</td>\n",
       "      <td>0</td>\n",
       "      <td>0</td>\n",
       "      <td>11</td>\n",
       "      <td>0</td>\n",
       "      <td>0</td>\n",
       "      <td>0</td>\n",
       "    </tr>\n",
       "  </tbody>\n",
       "</table>\n",
       "<p>310000 rows × 10 columns</p>\n",
       "</div>"
      ],
      "text/plain": [
       "             DPD_term_loan_H2  Default_flag_H1  Default_flag_H2  \\\n",
       "Customer_id                                                       \n",
       "33344475                    0                0                0   \n",
       "38290809                    0                0                0   \n",
       "33178125                   10                0                0   \n",
       "37129367                   29                0                0   \n",
       "31904710                    0                0                0   \n",
       "...                       ...              ...              ...   \n",
       "31104928                    0                0                0   \n",
       "38699158                    0                0                0   \n",
       "37435274                    0                0                0   \n",
       "36145194                    0                0                0   \n",
       "37156247                    0                0                0   \n",
       "\n",
       "             DPD_term_loan_H3  Default_flag_H3  Default_flag_H4  \\\n",
       "Customer_id                                                       \n",
       "33344475                    0                0                0   \n",
       "38290809                    0                0                0   \n",
       "33178125                    0                0                0   \n",
       "37129367                   29                0                0   \n",
       "31904710                    0                0                0   \n",
       "...                       ...              ...              ...   \n",
       "31104928                    0                0                0   \n",
       "38699158                    9                0                0   \n",
       "37435274                    0                0                0   \n",
       "36145194                    0                0                0   \n",
       "37156247                   29                0                0   \n",
       "\n",
       "             DPD_term_loan_H6  Default_flag_H5  DPD_term_loan_H4  Target  \n",
       "Customer_id                                                               \n",
       "33344475                   23                0                 0       0  \n",
       "38290809                   27                1                 0       0  \n",
       "33178125                    0                0                 0       0  \n",
       "37129367                    0                0                29       0  \n",
       "31904710                    0                0                16       0  \n",
       "...                       ...              ...               ...     ...  \n",
       "31104928                    0                0                 0       0  \n",
       "38699158                   22                0                 0       0  \n",
       "37435274                    0                0                 0       0  \n",
       "36145194                    0                0                 0       0  \n",
       "37156247                   11                0                 0       0  \n",
       "\n",
       "[310000 rows x 10 columns]"
      ]
     },
     "execution_count": 19,
     "metadata": {},
     "output_type": "execute_result"
    }
   ],
   "source": [
    "df\n"
   ]
  },
  {
   "cell_type": "code",
   "execution_count": null,
   "id": "c5965de4-3a28-411f-9fe0-7fd647110e65",
   "metadata": {},
   "outputs": [],
   "source": [
    "#from data_preparation.data_preparation import transform_data\n",
    "\n",
    "#train2 = transform_data(train)\n",
    "#print(train[\"Target\"])"
   ]
  },
  {
   "cell_type": "code",
   "execution_count": null,
   "id": "9a8293d4-c09e-4f2f-81e7-af9444e1ec30",
   "metadata": {},
   "outputs": [],
   "source": [
    "#x, y = train2"
   ]
  },
  {
   "cell_type": "code",
   "execution_count": null,
   "id": "8d606abd-60c7-4647-bef6-9b63fbdb451b",
   "metadata": {},
   "outputs": [],
   "source": [
    "#train2 = pd.concat([x,y], axis=1)"
   ]
  },
  {
   "cell_type": "code",
   "execution_count": 35,
   "id": "c7f955a4-245f-483e-b466-67368ec86053",
   "metadata": {},
   "outputs": [],
   "source": [
    "scaler = MinMaxScaler().set_output(transform=\"pandas\")\n",
    "scaled_data = scaler.fit_transform(df.drop(columns=['Target']))\n",
    "scaled_data = pd.DataFrame(scaled_data)\n",
    "data = pd.concat([scaled_data,y], axis=1)\n",
    "csv_file_path = \"/Users/karol/Desktop/aaa.csv\"\n",
    "data.to_csv(csv_file_path, index=False)\n",
    "\n",
    "\n",
    "scaled_data2 = scaler.transform(df2.drop(columns=['Target']))\n",
    "scaled_data2 = pd.DataFrame(scaled_data2)\n",
    "data2 = pd.concat([scaled_data2,y2], axis=1)\n",
    "csv_file_path2 = \"/Users/karol/Desktop/aaa2.csv\"\n",
    "data.to_csv(csv_file_path2, index=False)"
   ]
  },
  {
   "cell_type": "code",
   "execution_count": 37,
   "id": "c1f24ffb-02be-4110-aec0-4f52520e2ae2",
   "metadata": {},
   "outputs": [
    {
     "data": {
      "text/plain": [
       "Customer_id\n",
       "33344475    0\n",
       "38290809    0\n",
       "33178125    0\n",
       "37129367    0\n",
       "31904710    0\n",
       "           ..\n",
       "31104928    0\n",
       "38699158    0\n",
       "37435274    0\n",
       "36145194    0\n",
       "37156247    0\n",
       "Name: Target, Length: 310000, dtype: int64"
      ]
     },
     "execution_count": 37,
     "metadata": {},
     "output_type": "execute_result"
    }
   ],
   "source": [
    "data[\"Target\"]"
   ]
  },
  {
   "cell_type": "code",
   "execution_count": 22,
   "id": "b0353420-962c-4778-a89a-dfc4c96166dd",
   "metadata": {},
   "outputs": [
    {
     "data": {
      "text/plain": [
       "'Start of loading data.'"
      ]
     },
     "execution_count": 22,
     "metadata": {},
     "output_type": "execute_result"
    }
   ],
   "source": [
    "load_data(user, password, \"xyz.csv\",\n",
    "         [\"0\",\"1\",\"2\",\"3\",\"4\",\"5\",\"6\",\"7\",\"8\"],\n",
    "         \"Target\")\n",
    "\n",
    "check_status(user, password)"
   ]
  },
  {
   "cell_type": "code",
   "execution_count": 14,
   "id": "40becc97-a8f5-4d89-a176-859b358f33c7",
   "metadata": {},
   "outputs": [
    {
     "data": {
      "text/html": [
       "<div>\n",
       "<style scoped>\n",
       "    .dataframe tbody tr th:only-of-type {\n",
       "        vertical-align: middle;\n",
       "    }\n",
       "\n",
       "    .dataframe tbody tr th {\n",
       "        vertical-align: top;\n",
       "    }\n",
       "\n",
       "    .dataframe thead th {\n",
       "        text-align: right;\n",
       "    }\n",
       "</style>\n",
       "<table border=\"1\" class=\"dataframe\">\n",
       "  <thead>\n",
       "    <tr style=\"text-align: right;\">\n",
       "      <th></th>\n",
       "      <th>0</th>\n",
       "      <th>1</th>\n",
       "      <th>2</th>\n",
       "      <th>3</th>\n",
       "      <th>4</th>\n",
       "      <th>5</th>\n",
       "      <th>6</th>\n",
       "      <th>7</th>\n",
       "      <th>8</th>\n",
       "      <th>9</th>\n",
       "      <th>Target</th>\n",
       "    </tr>\n",
       "  </thead>\n",
       "  <tbody>\n",
       "    <tr>\n",
       "      <th>0</th>\n",
       "      <td>0.334448</td>\n",
       "      <td>0.000000</td>\n",
       "      <td>0.0</td>\n",
       "      <td>0.0</td>\n",
       "      <td>0.000000</td>\n",
       "      <td>0.0</td>\n",
       "      <td>0.0</td>\n",
       "      <td>0.130682</td>\n",
       "      <td>0.0</td>\n",
       "      <td>0.000000</td>\n",
       "      <td>0</td>\n",
       "    </tr>\n",
       "    <tr>\n",
       "      <th>1</th>\n",
       "      <td>0.829086</td>\n",
       "      <td>0.000000</td>\n",
       "      <td>0.0</td>\n",
       "      <td>0.0</td>\n",
       "      <td>0.000000</td>\n",
       "      <td>0.0</td>\n",
       "      <td>0.0</td>\n",
       "      <td>0.153409</td>\n",
       "      <td>1.0</td>\n",
       "      <td>0.000000</td>\n",
       "      <td>0</td>\n",
       "    </tr>\n",
       "    <tr>\n",
       "      <th>2</th>\n",
       "      <td>0.317813</td>\n",
       "      <td>0.049020</td>\n",
       "      <td>0.0</td>\n",
       "      <td>0.0</td>\n",
       "      <td>0.000000</td>\n",
       "      <td>0.0</td>\n",
       "      <td>0.0</td>\n",
       "      <td>0.000000</td>\n",
       "      <td>0.0</td>\n",
       "      <td>0.000000</td>\n",
       "      <td>0</td>\n",
       "    </tr>\n",
       "    <tr>\n",
       "      <th>3</th>\n",
       "      <td>0.712940</td>\n",
       "      <td>0.142157</td>\n",
       "      <td>0.0</td>\n",
       "      <td>0.0</td>\n",
       "      <td>0.147959</td>\n",
       "      <td>0.0</td>\n",
       "      <td>0.0</td>\n",
       "      <td>0.000000</td>\n",
       "      <td>0.0</td>\n",
       "      <td>0.154255</td>\n",
       "      <td>0</td>\n",
       "    </tr>\n",
       "    <tr>\n",
       "      <th>4</th>\n",
       "      <td>0.190470</td>\n",
       "      <td>0.000000</td>\n",
       "      <td>0.0</td>\n",
       "      <td>0.0</td>\n",
       "      <td>0.000000</td>\n",
       "      <td>0.0</td>\n",
       "      <td>0.0</td>\n",
       "      <td>0.000000</td>\n",
       "      <td>0.0</td>\n",
       "      <td>0.085106</td>\n",
       "      <td>0</td>\n",
       "    </tr>\n",
       "    <tr>\n",
       "      <th>...</th>\n",
       "      <td>...</td>\n",
       "      <td>...</td>\n",
       "      <td>...</td>\n",
       "      <td>...</td>\n",
       "      <td>...</td>\n",
       "      <td>...</td>\n",
       "      <td>...</td>\n",
       "      <td>...</td>\n",
       "      <td>...</td>\n",
       "      <td>...</td>\n",
       "      <td>...</td>\n",
       "    </tr>\n",
       "    <tr>\n",
       "      <th>309995</th>\n",
       "      <td>0.110492</td>\n",
       "      <td>0.000000</td>\n",
       "      <td>0.0</td>\n",
       "      <td>0.0</td>\n",
       "      <td>0.000000</td>\n",
       "      <td>0.0</td>\n",
       "      <td>0.0</td>\n",
       "      <td>0.000000</td>\n",
       "      <td>0.0</td>\n",
       "      <td>0.000000</td>\n",
       "      <td>0</td>\n",
       "    </tr>\n",
       "    <tr>\n",
       "      <th>309996</th>\n",
       "      <td>0.869921</td>\n",
       "      <td>0.000000</td>\n",
       "      <td>0.0</td>\n",
       "      <td>0.0</td>\n",
       "      <td>0.045918</td>\n",
       "      <td>0.0</td>\n",
       "      <td>0.0</td>\n",
       "      <td>0.125000</td>\n",
       "      <td>0.0</td>\n",
       "      <td>0.000000</td>\n",
       "      <td>0</td>\n",
       "    </tr>\n",
       "    <tr>\n",
       "      <th>309997</th>\n",
       "      <td>0.743531</td>\n",
       "      <td>0.000000</td>\n",
       "      <td>0.0</td>\n",
       "      <td>0.0</td>\n",
       "      <td>0.000000</td>\n",
       "      <td>0.0</td>\n",
       "      <td>0.0</td>\n",
       "      <td>0.000000</td>\n",
       "      <td>0.0</td>\n",
       "      <td>0.000000</td>\n",
       "      <td>0</td>\n",
       "    </tr>\n",
       "    <tr>\n",
       "      <th>309998</th>\n",
       "      <td>0.614522</td>\n",
       "      <td>0.000000</td>\n",
       "      <td>0.0</td>\n",
       "      <td>0.0</td>\n",
       "      <td>0.000000</td>\n",
       "      <td>0.0</td>\n",
       "      <td>0.0</td>\n",
       "      <td>0.000000</td>\n",
       "      <td>0.0</td>\n",
       "      <td>0.000000</td>\n",
       "      <td>0</td>\n",
       "    </tr>\n",
       "    <tr>\n",
       "      <th>309999</th>\n",
       "      <td>0.715628</td>\n",
       "      <td>0.000000</td>\n",
       "      <td>0.0</td>\n",
       "      <td>0.0</td>\n",
       "      <td>0.147959</td>\n",
       "      <td>0.0</td>\n",
       "      <td>0.0</td>\n",
       "      <td>0.062500</td>\n",
       "      <td>0.0</td>\n",
       "      <td>0.000000</td>\n",
       "      <td>0</td>\n",
       "    </tr>\n",
       "  </tbody>\n",
       "</table>\n",
       "<p>310000 rows × 11 columns</p>\n",
       "</div>"
      ],
      "text/plain": [
       "               0         1    2    3         4    5    6         7    8  \\\n",
       "0       0.334448  0.000000  0.0  0.0  0.000000  0.0  0.0  0.130682  0.0   \n",
       "1       0.829086  0.000000  0.0  0.0  0.000000  0.0  0.0  0.153409  1.0   \n",
       "2       0.317813  0.049020  0.0  0.0  0.000000  0.0  0.0  0.000000  0.0   \n",
       "3       0.712940  0.142157  0.0  0.0  0.147959  0.0  0.0  0.000000  0.0   \n",
       "4       0.190470  0.000000  0.0  0.0  0.000000  0.0  0.0  0.000000  0.0   \n",
       "...          ...       ...  ...  ...       ...  ...  ...       ...  ...   \n",
       "309995  0.110492  0.000000  0.0  0.0  0.000000  0.0  0.0  0.000000  0.0   \n",
       "309996  0.869921  0.000000  0.0  0.0  0.045918  0.0  0.0  0.125000  0.0   \n",
       "309997  0.743531  0.000000  0.0  0.0  0.000000  0.0  0.0  0.000000  0.0   \n",
       "309998  0.614522  0.000000  0.0  0.0  0.000000  0.0  0.0  0.000000  0.0   \n",
       "309999  0.715628  0.000000  0.0  0.0  0.147959  0.0  0.0  0.062500  0.0   \n",
       "\n",
       "               9  Target  \n",
       "0       0.000000       0  \n",
       "1       0.000000       0  \n",
       "2       0.000000       0  \n",
       "3       0.154255       0  \n",
       "4       0.085106       0  \n",
       "...          ...     ...  \n",
       "309995  0.000000       0  \n",
       "309996  0.000000       0  \n",
       "309997  0.000000       0  \n",
       "309998  0.000000       0  \n",
       "309999  0.000000       0  \n",
       "\n",
       "[310000 rows x 11 columns]"
      ]
     },
     "execution_count": 14,
     "metadata": {},
     "output_type": "execute_result"
    }
   ],
   "source": [
    "data"
   ]
  },
  {
   "cell_type": "code",
   "execution_count": null,
   "id": "1d79e6e3-6bf9-476b-89bc-f86f4668872c",
   "metadata": {},
   "outputs": [],
   "source": [
    "train(user, password, 150, 64, 0.05, \"Eva\", \"SU2U4\")\n",
    "\n",
    "check_status(user, password)"
   ]
  },
  {
   "cell_type": "code",
   "execution_count": null,
   "id": "ab82573c-c372-44a5-85c8-607af325882c",
   "metadata": {},
   "outputs": [],
   "source": [
    "params = get_parameters(user, password)"
   ]
  },
  {
   "cell_type": "code",
   "execution_count": null,
   "id": "804d7415-be19-4b22-8b01-a45fbcacb03c",
   "metadata": {},
   "outputs": [],
   "source": [
    "train(user, password, 150, 64, 0.05, \"Adam\", \"SU2U4\", params=params,\n",
    "      beta=0.1, beta2=0.1)"
   ]
  },
  {
   "cell_type": "code",
   "execution_count": 30,
   "id": "8eeb05d7-4d9d-4530-ba5d-b31d7dd3b052",
   "metadata": {},
   "outputs": [
    {
     "data": {
      "text/plain": [
       "'Start of loading data.'"
      ]
     },
     "execution_count": 30,
     "metadata": {},
     "output_type": "execute_result"
    }
   ],
   "source": [
    "check_status(user, password)"
   ]
  },
  {
   "cell_type": "code",
   "execution_count": 27,
   "id": "8e13e2a1-f7a5-49f9-ab9b-afd83e9b9ecc",
   "metadata": {},
   "outputs": [],
   "source": [
    "params = get_parameters(user, password)"
   ]
  },
  {
   "cell_type": "code",
   "execution_count": null,
   "id": "3bd5dc84-4a81-4265-b785-bdc73595bc6e",
   "metadata": {},
   "outputs": [],
   "source": [
    "validate(user, password, \"xyz2.csv\",\n",
    "         [\"0\",\"1\",\"2\",\"3\",\"4\",\"5\",\"6\",\"7\",\"8\"],\n",
    "         \"Target\", \"SU2U4\", params)"
   ]
  },
  {
   "cell_type": "code",
   "execution_count": 31,
   "id": "7c1b23c6-85bc-4e9a-a488-996d71e54c10",
   "metadata": {},
   "outputs": [
    {
     "data": {
      "text/plain": [
       "'ERROR: Unable to find y-variable Target in file xyz.csv.'"
      ]
     },
     "execution_count": 31,
     "metadata": {},
     "output_type": "execute_result"
    }
   ],
   "source": [
    "check_status(user, password)"
   ]
  },
  {
   "cell_type": "code",
   "execution_count": null,
   "id": "4648bd68-8446-42b7-abfa-67616556b939",
   "metadata": {},
   "outputs": [],
   "source": []
  }
 ],
 "metadata": {
  "kernelspec": {
   "display_name": "base (qiskit)",
   "language": "python",
   "name": "base"
  },
  "language_info": {
   "codemirror_mode": {
    "name": "ipython",
    "version": 3
   },
   "file_extension": ".py",
   "mimetype": "text/x-python",
   "name": "python",
   "nbconvert_exporter": "python",
   "pygments_lexer": "ipython3",
   "version": "3.11.7"
  }
 },
 "nbformat": 4,
 "nbformat_minor": 5
}
