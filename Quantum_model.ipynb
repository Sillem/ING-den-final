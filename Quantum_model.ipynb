{
 "cells": [
  {
   "cell_type": "code",
   "execution_count": 4,
   "id": "52c98b2b-513f-4128-a18d-ff5a75022b60",
   "metadata": {},
   "outputs": [],
   "source": [
    "import numpy as np\n",
    "import pandas as pd\n",
    "import scorecardpy as sc\n",
    "import matplotlib.pyplot as plt"
   ]
  },
  {
   "cell_type": "code",
   "execution_count": 1,
   "id": "f6a2c625-8953-4121-8b8b-7e05b03a97f6",
   "metadata": {},
   "outputs": [],
   "source": [
    "from PythonAPI import *"
   ]
  },
  {
   "cell_type": "code",
   "execution_count": 2,
   "id": "3e11fed5-9feb-4260-ab7d-92e743ee7a53",
   "metadata": {},
   "outputs": [
    {
     "data": {
      "text/plain": [
       "'OK'"
      ]
     },
     "execution_count": 2,
     "metadata": {},
     "output_type": "execute_result"
    }
   ],
   "source": [
    "check_connection()"
   ]
  },
  {
   "cell_type": "code",
   "execution_count": 5,
   "id": "5bed8883-8550-4ba1-b5d4-553806ce6aa5",
   "metadata": {},
   "outputs": [],
   "source": [
    "user = \"team13\"\n",
    "password = \"tS2KbTei]b84\""
   ]
  },
  {
   "cell_type": "code",
   "execution_count": 7,
   "id": "958922c3-b83b-4a6f-870d-06751ee8b2ba",
   "metadata": {},
   "outputs": [
    {
     "data": {
      "text/plain": [
       "''"
      ]
     },
     "execution_count": 7,
     "metadata": {},
     "output_type": "execute_result"
    }
   ],
   "source": [
    "check_status(user, password)"
   ]
  },
  {
   "cell_type": "code",
   "execution_count": 8,
   "id": "00b29175-ebc3-4887-92f5-697f81daa3d0",
   "metadata": {},
   "outputs": [],
   "source": [
    "train = pd.read_csv(\"datasets/in_time.csv\")\n",
    "oot = pd.read_csv(\"datasets/out_of_time.csv\")"
   ]
  },
  {
   "cell_type": "code",
   "execution_count": 12,
   "id": "22ab3c7e-d61d-4499-993e-b4ec197a031a",
   "metadata": {},
   "outputs": [
    {
     "name": "stdout",
     "output_type": "stream",
     "text": [
      "  Ref_month  Customer_id  Birth_date  No_dependants  Time_in_address  \\\n",
      "0   11-2022     33344475  21-05-1988              0             3.41   \n",
      "\n",
      "   Time_in_current_job  Credit_cards  Debit_cards  Active_accounts  \\\n",
      "0                 4.13             0            2                2   \n",
      "\n",
      "  Oldest_account_date  ...  out_transactions_amt_H8  out_transactions_amt_H7  \\\n",
      "0          26-06-2008  ...                  4576.57                  3981.55   \n",
      "\n",
      "   out_transactions_amt_H6 out_transactions_amt_H5 out_transactions_amt_H4  \\\n",
      "0                   4607.8                 4182.93                 3831.11   \n",
      "\n",
      "   out_transactions_amt_H3  out_transactions_amt_H2  out_transactions_amt_H1  \\\n",
      "0                  4210.16                  3832.29                  4727.64   \n",
      "\n",
      "   out_transactions_amt_H0  Target  \n",
      "0                  4022.14       0  \n",
      "\n",
      "[1 rows x 307 columns]\n"
     ]
    }
   ],
   "source": [
    "print(train.head(1))"
   ]
  },
  {
   "cell_type": "code",
   "execution_count": null,
   "id": "c5965de4-3a28-411f-9fe0-7fd647110e65",
   "metadata": {},
   "outputs": [],
   "source": []

  },
  {
   "cell_type": "code",
   "execution_count": null,
   "id": "c7f955a4-245f-483e-b466-67368ec86053",
   "metadata": {},
   "outputs": [],
   "source": [
    "load_data(user, password, train,\n",
    "         [\"\", \"\", \"\", \"\"],\n",
    "         \"target\")\n",
    "\n",
    "check_status(user, password)"
   ]
  },
  {
   "cell_type": "code",
   "execution_count": null,
   "id": "1d79e6e3-6bf9-476b-89bc-f86f4668872c",
   "metadata": {},
   "outputs": [],
   "source": [
    "train(user, password, 100, 100, 0.1, \"Eva\", \"SU2U4\")\n",
    "\n",
    "check_status(user, password)"
   ]
  },
  {
   "cell_type": "code",
   "execution_count": null,
   "id": "ab82573c-c372-44a5-85c8-607af325882c",
   "metadata": {},
   "outputs": [],
   "source": [
    "params = get_parameters(user, password)"
   ]
  },
  {
   "cell_type": "code",
   "execution_count": null,
   "id": "804d7415-be19-4b22-8b01-a45fbcacb03c",
   "metadata": {},
   "outputs": [],
   "source": [
    "train(user, password, 100, 100, 0.1, \"Adam\", \"SU2U4\", params=params,\n",
    "      beta=0.1, beta2=0.1)"
   ]
  },
  {
   "cell_type": "code",
   "execution_count": null,
   "id": "8eeb05d7-4d9d-4530-ba5d-b31d7dd3b052",
   "metadata": {},
   "outputs": [],
   "source": [
    "check_status(user, password)"
   ]
  },
  {
   "cell_type": "code",
   "execution_count": null,
   "id": "8e13e2a1-f7a5-49f9-ab9b-afd83e9b9ecc",
   "metadata": {},
   "outputs": [],
   "source": [
    "params = get_parameters(user, password)"
   ]
  },
  {
   "cell_type": "code",
   "execution_count": null,
   "id": "3bd5dc84-4a81-4265-b785-bdc73595bc6e",
   "metadata": {},
   "outputs": [],
   "source": [
    "validate(user, password, \"testData.csv\",\n",
    "         [\"Dependents\", \"Education\", \"Self_Employed\", \"ApplicantIncome\", \"CoapplicantIncome\", \"LoanAmount\", \"Loan_Amount_Term\", \"Credit_History\", \"Property_Area\"],\n",
    "         \"Loan_Status\", \"SU2U4\", params)"
   ]
  },
  {
   "cell_type": "code",
   "execution_count": null,
   "id": "7c1b23c6-85bc-4e9a-a488-996d71e54c10",
   "metadata": {},
   "outputs": [],
   "source": [
    "check_status(user, password)"
   ]
  },
  {
   "cell_type": "code",
   "execution_count": null,
   "id": "4648bd68-8446-42b7-abfa-67616556b939",
   "metadata": {},
   "outputs": [],
   "source": []
  }
 ],
 "metadata": {
  "kernelspec": {
   "display_name": "base (qiskit)",
   "language": "python",
   "name": "base"
  },
  "language_info": {
   "codemirror_mode": {
    "name": "ipython",
    "version": 3
   },
   "file_extension": ".py",
   "mimetype": "text/x-python",
   "name": "python",
   "nbconvert_exporter": "python",
   "pygments_lexer": "ipython3",
   "version": "3.11.7"
  }
 },
 "nbformat": 4,
 "nbformat_minor": 5
}
