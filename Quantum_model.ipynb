{
 "cells": [
  {
   "cell_type": "code",
   "execution_count": 1,
   "id": "52c98b2b-513f-4128-a18d-ff5a75022b60",
   "metadata": {},
   "outputs": [],
   "source": [
    "import numpy as np\n",
    "import pandas as pd\n",
    "import matplotlib.pyplot as plt\n",
    "from sklearn.preprocessing import MinMaxScaler"
   ]
  },
  {
   "cell_type": "code",
   "execution_count": 2,
   "id": "f6a2c625-8953-4121-8b8b-7e05b03a97f6",
   "metadata": {},
   "outputs": [],
   "source": [
    "from PythonAPI import *"
   ]
  },
  {
   "cell_type": "code",
   "execution_count": 3,
   "id": "3e11fed5-9feb-4260-ab7d-92e743ee7a53",
   "metadata": {},
   "outputs": [
    {
     "data": {
      "text/plain": [
       "'OK'"
      ]
     },
     "execution_count": 3,
     "metadata": {},
     "output_type": "execute_result"
    }
   ],
   "source": [
    "check_connection()"
   ]
  },
  {
   "cell_type": "code",
   "execution_count": 4,
   "id": "5bed8883-8550-4ba1-b5d4-553806ce6aa5",
   "metadata": {},
   "outputs": [],
   "source": [
    "user = \"team13\"\n",
    "password = \"tS2KbTei]b84\""
   ]
  },
  {
   "cell_type": "code",
   "execution_count": 5,
   "id": "958922c3-b83b-4a6f-870d-06751ee8b2ba",
   "metadata": {},
   "outputs": [
    {
     "data": {
      "text/plain": [
       "'The data was loaded correctly.'"
      ]
     },
     "execution_count": 5,
     "metadata": {},
     "output_type": "execute_result"
    }
   ],
   "source": [
    "check_status(user, password)"
   ]
  },
  {
   "cell_type": "code",
   "execution_count": null,
   "id": "00b29175-ebc3-4887-92f5-697f81daa3d0",
   "metadata": {},
   "outputs": [],
   "source": [
    "#train = pd.read_csv(\"datasets/in_time.csv\")\n",
    "#oot = pd.read_csv(\"datasets/out_of_time.csv\")\n",
    "df = pd.read_csv(\"variable.csv\")\n",
    "y = df[\"Target\"]"
   ]
  },
  {
   "cell_type": "code",
   "execution_count": null,
   "id": "22ab3c7e-d61d-4499-993e-b4ec197a031a",
   "metadata": {},
   "outputs": [],
   "source": [
    "df"
   ]
  },
  {
   "cell_type": "code",
   "execution_count": null,
   "id": "c5965de4-3a28-411f-9fe0-7fd647110e65",
   "metadata": {},
   "outputs": [],
   "source": [
    "#from data_preparation.data_preparation import transform_data\n",
    "\n",
    "#train2 = transform_data(train)\n",
    "#print(train[\"Target\"])"
   ]
  },
  {
   "cell_type": "code",
   "execution_count": null,
   "id": "9a8293d4-c09e-4f2f-81e7-af9444e1ec30",
   "metadata": {},
   "outputs": [],
   "source": [
    "#x, y = train2"
   ]
  },
  {
   "cell_type": "code",
   "execution_count": null,
   "id": "8d606abd-60c7-4647-bef6-9b63fbdb451b",
   "metadata": {},
   "outputs": [],
   "source": [
    "#train2 = pd.concat([x,y], axis=1)"
   ]
  },
  {
   "cell_type": "code",
   "execution_count": null,
   "id": "c7f955a4-245f-483e-b466-67368ec86053",
   "metadata": {},
   "outputs": [],
   "source": [
    "scaler = MinMaxScaler()\n",
    "scaled_data = scaler.fit_transform(df.drop(columns=['Target']))\n",
    "scaled_data = pd.DataFrame(scaled_data)\n",
    "data = pd.concat([scaled_data,y], axis=1)\n",
    "\n",
    "csv_file_path = \"/Users/karol/Desktop/hehe.csv\"\n",
    "\n",
    "data.to_csv(csv_file_path, index=False)"
   ]
  },
  {
   "cell_type": "code",
   "execution_count": null,
   "id": "b0353420-962c-4778-a89a-dfc4c96166dd",
   "metadata": {},
   "outputs": [],
   "source": [
    "load_data(user, password, \"hehe.csv\",\n",
    "         [\"0\",\"1\",\"2\",\"3\",\"4\",\"5\",\"6\",\"7\",\"8\"],\n",
    "         \"Target\")\n",
    "\n",
    "check_status(user, password)"
   ]
  },
  {
   "cell_type": "code",
   "execution_count": 6,
   "id": "1d79e6e3-6bf9-476b-89bc-f86f4668872c",
   "metadata": {},
   "outputs": [
    {
     "data": {
      "text/plain": [
       "'Start of the training of the model.'"
      ]
     },
     "execution_count": 6,
     "metadata": {},
     "output_type": "execute_result"
    }
   ],
   "source": [
    "train(user, password, 100, 100, 0.1, \"Eva\", \"SU2U4\")\n",
    "\n",
    "check_status(user, password)"
   ]
  },
  {
   "cell_type": "code",
   "execution_count": 12,
   "id": "ab82573c-c372-44a5-85c8-607af325882c",
   "metadata": {},
   "outputs": [],
   "source": [
    "params = get_parameters(user, password)"
   ]
  },
  {
   "cell_type": "code",
   "execution_count": 13,
   "id": "804d7415-be19-4b22-8b01-a45fbcacb03c",
   "metadata": {},
   "outputs": [
    {
     "data": {
      "text/plain": [
       "'OK'"
      ]
     },
     "execution_count": 13,
     "metadata": {},
     "output_type": "execute_result"
    }
   ],
   "source": [
    "train(user, password, 100, 100, 0.1, \"Adam\", \"SU2U4\", params=params,\n",
    "      beta=0.1, beta2=0.1)"
   ]
  },
  {
   "cell_type": "code",
   "execution_count": 19,
   "id": "8eeb05d7-4d9d-4530-ba5d-b31d7dd3b052",
   "metadata": {},
   "outputs": [
    {
     "data": {
      "text/plain": [
       "'The model was trained correctly.'"
      ]
     },
     "execution_count": 19,
     "metadata": {},
     "output_type": "execute_result"
    }
   ],
   "source": [
    "check_status(user, password)"
   ]
  },
  {
   "cell_type": "code",
   "execution_count": 20,
   "id": "8e13e2a1-f7a5-49f9-ab9b-afd83e9b9ecc",
   "metadata": {},
   "outputs": [],
   "source": [
    "params = get_parameters(user, password)"
   ]
  },
  {
   "cell_type": "code",
   "execution_count": 23,
   "id": "3bd5dc84-4a81-4265-b785-bdc73595bc6e",
   "metadata": {},
   "outputs": [
    {
     "data": {
      "text/plain": [
       "'OK'"
      ]
     },
     "execution_count": 23,
     "metadata": {},
     "output_type": "execute_result"
    }
   ],
   "source": [
    "validate(user, password, \"hehe.csv\",\n",
    "         [\"0\",\"1\",\"2\",\"3\",\"4\",\"5\",\"6\",\"7\",\"8\"],\n",
    "         \"Target\", \"SU2U4\", params)"
   ]
  },
  {
   "cell_type": "code",
   "execution_count": 25,
   "id": "7c1b23c6-85bc-4e9a-a488-996d71e54c10",
   "metadata": {},
   "outputs": [
    {
     "data": {
      "text/plain": [
       "'Accuracy=0.8588032258064516, precision=0.25949880464480873, recall=0.5724443188774309, AUC=0.7870225345957101'"
      ]
     },
     "execution_count": 25,
     "metadata": {},
     "output_type": "execute_result"
    }
   ],
   "source": [
    "check_status(user, password)"
   ]
  },
  {
   "cell_type": "code",
   "execution_count": null,
   "id": "4648bd68-8446-42b7-abfa-67616556b939",
   "metadata": {},
   "outputs": [],
   "source": []
  }
 ],
 "metadata": {
  "kernelspec": {
   "display_name": "base (qiskit)",
   "language": "python",
   "name": "base"
  },
  "language_info": {
   "codemirror_mode": {
    "name": "ipython",
    "version": 3
   },
   "file_extension": ".py",
   "mimetype": "text/x-python",
   "name": "python",
   "nbconvert_exporter": "python",
   "pygments_lexer": "ipython3",
   "version": "3.11.7"
  }
 },
 "nbformat": 4,
 "nbformat_minor": 5
}
