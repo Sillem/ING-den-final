{
 "cells": [
  {
   "cell_type": "code",
   "execution_count": 1,
   "id": "52c98b2b-513f-4128-a18d-ff5a75022b60",
   "metadata": {},
   "outputs": [],
   "source": [
    "import numpy as np\n",
    "import pandas as pd\n",
    "import matplotlib.pyplot as plt\n",
    "from sklearn.preprocessing import MinMaxScaler"
   ]
  },
  {
   "cell_type": "code",
   "execution_count": 2,
   "id": "f6a2c625-8953-4121-8b8b-7e05b03a97f6",
   "metadata": {},
   "outputs": [],
   "source": [
    "from PythonAPI import *"
   ]
  },
  {
   "cell_type": "code",
   "execution_count": 3,
   "id": "3e11fed5-9feb-4260-ab7d-92e743ee7a53",
   "metadata": {},
   "outputs": [
    {
     "data": {
      "text/plain": [
       "'OK'"
      ]
     },
     "execution_count": 3,
     "metadata": {},
     "output_type": "execute_result"
    }
   ],
   "source": [
    "check_connection()"
   ]
  },
  {
   "cell_type": "code",
   "execution_count": 4,
   "id": "5bed8883-8550-4ba1-b5d4-553806ce6aa5",
   "metadata": {},
   "outputs": [],
   "source": [
    "user = \"team13\"\n",
    "password = \"tS2KbTei]b84\""
   ]
  },
  {
   "cell_type": "code",
   "execution_count": 5,
   "id": "958922c3-b83b-4a6f-870d-06751ee8b2ba",
   "metadata": {},
   "outputs": [
    {
     "data": {
      "text/plain": [
       "'ERROR: Unable to find y-variable Target in file xyz.csv.'"
      ]
     },
     "execution_count": 5,
     "metadata": {},
     "output_type": "execute_result"
    }
   ],
   "source": [
    "#run this cell often to ensure that every step had positive response from server\n",
    "check_status(user, password)"
   ]
  },
  {
   "cell_type": "code",
   "execution_count": 6,
   "id": "00b29175-ebc3-4887-92f5-697f81daa3d0",
   "metadata": {},
   "outputs": [],
   "source": [
    "#reading same features that were used for EBM model\n",
    "\n",
    "df = pd.read_csv(\"variable.csv\", index_col=0)\n",
    "y = df[\"Target\"]\n",
    "\n",
    "df2 = pd.read_csv(\"variable_oot.csv\", index_col=0)\n",
    "y2 = df2[\"Target\"]"
   ]
  },
  {
   "cell_type": "code",
   "execution_count": 7,
   "id": "22ab3c7e-d61d-4499-993e-b4ec197a031a",
   "metadata": {},
   "outputs": [
    {
     "data": {
      "text/html": [
       "<div>\n",
       "<style scoped>\n",
       "    .dataframe tbody tr th:only-of-type {\n",
       "        vertical-align: middle;\n",
       "    }\n",
       "\n",
       "    .dataframe tbody tr th {\n",
       "        vertical-align: top;\n",
       "    }\n",
       "\n",
       "    .dataframe thead th {\n",
       "        text-align: right;\n",
       "    }\n",
       "</style>\n",
       "<table border=\"1\" class=\"dataframe\">\n",
       "  <thead>\n",
       "    <tr style=\"text-align: right;\">\n",
       "      <th></th>\n",
       "      <th>DPD_term_loan_H2</th>\n",
       "      <th>Default_flag_H1</th>\n",
       "      <th>Default_flag_H2</th>\n",
       "      <th>DPD_term_loan_H3</th>\n",
       "      <th>incPerSavingsAccountBalance0</th>\n",
       "      <th>Default_flag_H3</th>\n",
       "      <th>Default_flag_H4</th>\n",
       "      <th>DPD_term_loan_H6</th>\n",
       "      <th>incPerCurrentAccountBalance2</th>\n",
       "      <th>Target</th>\n",
       "    </tr>\n",
       "    <tr>\n",
       "      <th>Customer_id</th>\n",
       "      <th></th>\n",
       "      <th></th>\n",
       "      <th></th>\n",
       "      <th></th>\n",
       "      <th></th>\n",
       "      <th></th>\n",
       "      <th></th>\n",
       "      <th></th>\n",
       "      <th></th>\n",
       "      <th></th>\n",
       "    </tr>\n",
       "  </thead>\n",
       "  <tbody>\n",
       "    <tr>\n",
       "      <th>33344475</th>\n",
       "      <td>-0.378836</td>\n",
       "      <td>-0.2646</td>\n",
       "      <td>-0.263237</td>\n",
       "      <td>-0.381531</td>\n",
       "      <td>-0.074935</td>\n",
       "      <td>-0.261439</td>\n",
       "      <td>-0.259143</td>\n",
       "      <td>1.393283</td>\n",
       "      <td>-0.074883</td>\n",
       "      <td>0</td>\n",
       "    </tr>\n",
       "    <tr>\n",
       "      <th>38290809</th>\n",
       "      <td>-0.378836</td>\n",
       "      <td>-0.2646</td>\n",
       "      <td>-0.263237</td>\n",
       "      <td>-0.381531</td>\n",
       "      <td>-0.074566</td>\n",
       "      <td>-0.261439</td>\n",
       "      <td>-0.259143</td>\n",
       "      <td>1.702444</td>\n",
       "      <td>-0.074831</td>\n",
       "      <td>0</td>\n",
       "    </tr>\n",
       "    <tr>\n",
       "      <th>33178125</th>\n",
       "      <td>0.314312</td>\n",
       "      <td>-0.2646</td>\n",
       "      <td>-0.263237</td>\n",
       "      <td>-0.381531</td>\n",
       "      <td>-0.074939</td>\n",
       "      <td>-0.261439</td>\n",
       "      <td>-0.259143</td>\n",
       "      <td>-0.384396</td>\n",
       "      <td>-0.074881</td>\n",
       "      <td>0</td>\n",
       "    </tr>\n",
       "    <tr>\n",
       "      <th>37129367</th>\n",
       "      <td>1.631292</td>\n",
       "      <td>-0.2646</td>\n",
       "      <td>-0.263237</td>\n",
       "      <td>1.664632</td>\n",
       "      <td>-0.074871</td>\n",
       "      <td>-0.261439</td>\n",
       "      <td>-0.259143</td>\n",
       "      <td>-0.384396</td>\n",
       "      <td>-0.074839</td>\n",
       "      <td>0</td>\n",
       "    </tr>\n",
       "    <tr>\n",
       "      <th>31904710</th>\n",
       "      <td>-0.378836</td>\n",
       "      <td>-0.2646</td>\n",
       "      <td>-0.263237</td>\n",
       "      <td>-0.381531</td>\n",
       "      <td>-0.074928</td>\n",
       "      <td>-0.261439</td>\n",
       "      <td>-0.259143</td>\n",
       "      <td>-0.384396</td>\n",
       "      <td>-0.074907</td>\n",
       "      <td>0</td>\n",
       "    </tr>\n",
       "    <tr>\n",
       "      <th>...</th>\n",
       "      <td>...</td>\n",
       "      <td>...</td>\n",
       "      <td>...</td>\n",
       "      <td>...</td>\n",
       "      <td>...</td>\n",
       "      <td>...</td>\n",
       "      <td>...</td>\n",
       "      <td>...</td>\n",
       "      <td>...</td>\n",
       "      <td>...</td>\n",
       "    </tr>\n",
       "    <tr>\n",
       "      <th>31104928</th>\n",
       "      <td>-0.378836</td>\n",
       "      <td>-0.2646</td>\n",
       "      <td>-0.263237</td>\n",
       "      <td>-0.381531</td>\n",
       "      <td>-0.074906</td>\n",
       "      <td>-0.261439</td>\n",
       "      <td>-0.259143</td>\n",
       "      <td>-0.384396</td>\n",
       "      <td>-0.074895</td>\n",
       "      <td>0</td>\n",
       "    </tr>\n",
       "    <tr>\n",
       "      <th>38699158</th>\n",
       "      <td>-0.378836</td>\n",
       "      <td>-0.2646</td>\n",
       "      <td>-0.263237</td>\n",
       "      <td>0.253485</td>\n",
       "      <td>-0.074925</td>\n",
       "      <td>-0.261439</td>\n",
       "      <td>-0.259143</td>\n",
       "      <td>1.315992</td>\n",
       "      <td>-0.074896</td>\n",
       "      <td>0</td>\n",
       "    </tr>\n",
       "    <tr>\n",
       "      <th>37435274</th>\n",
       "      <td>-0.378836</td>\n",
       "      <td>-0.2646</td>\n",
       "      <td>-0.263237</td>\n",
       "      <td>-0.381531</td>\n",
       "      <td>-0.074927</td>\n",
       "      <td>-0.261439</td>\n",
       "      <td>-0.259143</td>\n",
       "      <td>-0.384396</td>\n",
       "      <td>-0.073993</td>\n",
       "      <td>0</td>\n",
       "    </tr>\n",
       "    <tr>\n",
       "      <th>36145194</th>\n",
       "      <td>-0.378836</td>\n",
       "      <td>-0.2646</td>\n",
       "      <td>-0.263237</td>\n",
       "      <td>-0.381531</td>\n",
       "      <td>-0.074882</td>\n",
       "      <td>-0.261439</td>\n",
       "      <td>-0.259143</td>\n",
       "      <td>-0.384396</td>\n",
       "      <td>-0.074338</td>\n",
       "      <td>0</td>\n",
       "    </tr>\n",
       "    <tr>\n",
       "      <th>37156247</th>\n",
       "      <td>-0.378836</td>\n",
       "      <td>-0.2646</td>\n",
       "      <td>-0.263237</td>\n",
       "      <td>1.664632</td>\n",
       "      <td>-0.074885</td>\n",
       "      <td>-0.261439</td>\n",
       "      <td>-0.259143</td>\n",
       "      <td>0.465798</td>\n",
       "      <td>-0.074855</td>\n",
       "      <td>0</td>\n",
       "    </tr>\n",
       "  </tbody>\n",
       "</table>\n",
       "<p>310000 rows × 10 columns</p>\n",
       "</div>"
      ],
      "text/plain": [
       "             DPD_term_loan_H2  Default_flag_H1  Default_flag_H2  \\\n",
       "Customer_id                                                       \n",
       "33344475            -0.378836          -0.2646        -0.263237   \n",
       "38290809            -0.378836          -0.2646        -0.263237   \n",
       "33178125             0.314312          -0.2646        -0.263237   \n",
       "37129367             1.631292          -0.2646        -0.263237   \n",
       "31904710            -0.378836          -0.2646        -0.263237   \n",
       "...                       ...              ...              ...   \n",
       "31104928            -0.378836          -0.2646        -0.263237   \n",
       "38699158            -0.378836          -0.2646        -0.263237   \n",
       "37435274            -0.378836          -0.2646        -0.263237   \n",
       "36145194            -0.378836          -0.2646        -0.263237   \n",
       "37156247            -0.378836          -0.2646        -0.263237   \n",
       "\n",
       "             DPD_term_loan_H3  incPerSavingsAccountBalance0  Default_flag_H3  \\\n",
       "Customer_id                                                                    \n",
       "33344475            -0.381531                     -0.074935        -0.261439   \n",
       "38290809            -0.381531                     -0.074566        -0.261439   \n",
       "33178125            -0.381531                     -0.074939        -0.261439   \n",
       "37129367             1.664632                     -0.074871        -0.261439   \n",
       "31904710            -0.381531                     -0.074928        -0.261439   \n",
       "...                       ...                           ...              ...   \n",
       "31104928            -0.381531                     -0.074906        -0.261439   \n",
       "38699158             0.253485                     -0.074925        -0.261439   \n",
       "37435274            -0.381531                     -0.074927        -0.261439   \n",
       "36145194            -0.381531                     -0.074882        -0.261439   \n",
       "37156247             1.664632                     -0.074885        -0.261439   \n",
       "\n",
       "             Default_flag_H4  DPD_term_loan_H6  incPerCurrentAccountBalance2  \\\n",
       "Customer_id                                                                    \n",
       "33344475           -0.259143          1.393283                     -0.074883   \n",
       "38290809           -0.259143          1.702444                     -0.074831   \n",
       "33178125           -0.259143         -0.384396                     -0.074881   \n",
       "37129367           -0.259143         -0.384396                     -0.074839   \n",
       "31904710           -0.259143         -0.384396                     -0.074907   \n",
       "...                      ...               ...                           ...   \n",
       "31104928           -0.259143         -0.384396                     -0.074895   \n",
       "38699158           -0.259143          1.315992                     -0.074896   \n",
       "37435274           -0.259143         -0.384396                     -0.073993   \n",
       "36145194           -0.259143         -0.384396                     -0.074338   \n",
       "37156247           -0.259143          0.465798                     -0.074855   \n",
       "\n",
       "             Target  \n",
       "Customer_id          \n",
       "33344475          0  \n",
       "38290809          0  \n",
       "33178125          0  \n",
       "37129367          0  \n",
       "31904710          0  \n",
       "...             ...  \n",
       "31104928          0  \n",
       "38699158          0  \n",
       "37435274          0  \n",
       "36145194          0  \n",
       "37156247          0  \n",
       "\n",
       "[310000 rows x 10 columns]"
      ]
     },
     "execution_count": 7,
     "metadata": {},
     "output_type": "execute_result"
    }
   ],
   "source": [
    "df\n"
   ]
  },
  {
   "cell_type": "code",
   "execution_count": 49,
   "id": "c7f955a4-245f-483e-b466-67368ec86053",
   "metadata": {},
   "outputs": [],
   "source": [
    "#transformation of data so it will be ready to travel to ftp server :)\n",
    "\n",
    "#sorry for the hard-coded paths, had to update them often, and making all those commits would have been harmful to my coworkers\n",
    "\n",
    "scaler = MinMaxScaler().set_output(transform=\"pandas\")\n",
    "scaled_data = scaler.fit_transform(df.drop(columns=['Target']))\n",
    "scaled_data = pd.DataFrame(scaled_data)\n",
    "data = pd.concat([scaled_data,y], axis=1)\n",
    "csv_file_path = \"/Users/karol/Desktop/bbb.csv\"\n",
    "data.to_csv(csv_file_path, index=False)\n",
    "\n",
    "\n",
    "scaled_data2 = scaler.fit_transform(df2.drop(columns=['Target']))\n",
    "scaled_data2 = pd.DataFrame(scaled_data2)\n",
    "data2 = pd.concat([scaled_data2,y2], axis=1)\n",
    "csv_file_path2 = \"/Users/karol/Desktop/ccc2.csv\"\n",
    "data2.to_csv(csv_file_path2, index=False)"
   ]
  },
  {
   "cell_type": "code",
   "execution_count": 59,
   "id": "c1f24ffb-02be-4110-aec0-4f52520e2ae2",
   "metadata": {},
   "outputs": [
    {
     "data": {
      "text/plain": [
       "Customer_id\n",
       "31264719    0\n",
       "33263992    0\n",
       "31153663    1\n",
       "34161420    0\n",
       "33407849    0\n",
       "           ..\n",
       "34145361    0\n",
       "37691952    0\n",
       "35630042    0\n",
       "32549616    0\n",
       "38303999    0\n",
       "Name: Target, Length: 160000, dtype: int64"
      ]
     },
     "execution_count": 59,
     "metadata": {},
     "output_type": "execute_result"
    }
   ],
   "source": [
    "data2[\"Target\"]\n"
   ]
  },
  {
   "cell_type": "code",
   "execution_count": 16,
   "id": "b0353420-962c-4778-a89a-dfc4c96166dd",
   "metadata": {},
   "outputs": [
    {
     "data": {
      "text/plain": [
       "'Start of loading data.'"
      ]
     },
     "execution_count": 16,
     "metadata": {},
     "output_type": "execute_result"
    }
   ],
   "source": [
    "load_data(user, password, \"bbb.csv\",\n",
    "         [\"DPD_term_loan_H2\",\"Default_flag_H1\",\"Default_flag_H2\",\"DPD_term_loan_H3\",\"incPerSavingsAccountBalance0\",\"Default_flag_H3\",\"Default_flag_H4\",\"DPD_term_loan_H6\",\"incPerCurrentAccountBalance2\"],\n",
    "         \"Target\")\n",
    "\n",
    "check_status(user, password)"
   ]
  },
  {
   "cell_type": "code",
   "execution_count": 18,
   "id": "40becc97-a8f5-4d89-a176-859b358f33c7",
   "metadata": {},
   "outputs": [
    {
     "data": {
      "text/html": [
       "<div>\n",
       "<style scoped>\n",
       "    .dataframe tbody tr th:only-of-type {\n",
       "        vertical-align: middle;\n",
       "    }\n",
       "\n",
       "    .dataframe tbody tr th {\n",
       "        vertical-align: top;\n",
       "    }\n",
       "\n",
       "    .dataframe thead th {\n",
       "        text-align: right;\n",
       "    }\n",
       "</style>\n",
       "<table border=\"1\" class=\"dataframe\">\n",
       "  <thead>\n",
       "    <tr style=\"text-align: right;\">\n",
       "      <th></th>\n",
       "      <th>DPD_term_loan_H2</th>\n",
       "      <th>Default_flag_H1</th>\n",
       "      <th>Default_flag_H2</th>\n",
       "      <th>DPD_term_loan_H3</th>\n",
       "      <th>incPerSavingsAccountBalance0</th>\n",
       "      <th>Default_flag_H3</th>\n",
       "      <th>Default_flag_H4</th>\n",
       "      <th>DPD_term_loan_H6</th>\n",
       "      <th>incPerCurrentAccountBalance2</th>\n",
       "      <th>Target</th>\n",
       "    </tr>\n",
       "    <tr>\n",
       "      <th>Customer_id</th>\n",
       "      <th></th>\n",
       "      <th></th>\n",
       "      <th></th>\n",
       "      <th></th>\n",
       "      <th></th>\n",
       "      <th></th>\n",
       "      <th></th>\n",
       "      <th></th>\n",
       "      <th></th>\n",
       "      <th></th>\n",
       "    </tr>\n",
       "  </thead>\n",
       "  <tbody>\n",
       "    <tr>\n",
       "      <th>33344475</th>\n",
       "      <td>0.000000</td>\n",
       "      <td>0.0</td>\n",
       "      <td>0.0</td>\n",
       "      <td>0.000000</td>\n",
       "      <td>6.109295e-07</td>\n",
       "      <td>0.0</td>\n",
       "      <td>0.0</td>\n",
       "      <td>0.130682</td>\n",
       "      <td>1.946370e-06</td>\n",
       "      <td>0</td>\n",
       "    </tr>\n",
       "    <tr>\n",
       "      <th>38290809</th>\n",
       "      <td>0.000000</td>\n",
       "      <td>0.0</td>\n",
       "      <td>0.0</td>\n",
       "      <td>0.000000</td>\n",
       "      <td>2.693348e-05</td>\n",
       "      <td>0.0</td>\n",
       "      <td>0.0</td>\n",
       "      <td>0.153409</td>\n",
       "      <td>5.684466e-06</td>\n",
       "      <td>0</td>\n",
       "    </tr>\n",
       "    <tr>\n",
       "      <th>33178125</th>\n",
       "      <td>0.049020</td>\n",
       "      <td>0.0</td>\n",
       "      <td>0.0</td>\n",
       "      <td>0.000000</td>\n",
       "      <td>2.780520e-07</td>\n",
       "      <td>0.0</td>\n",
       "      <td>0.0</td>\n",
       "      <td>0.000000</td>\n",
       "      <td>2.118406e-06</td>\n",
       "      <td>0</td>\n",
       "    </tr>\n",
       "    <tr>\n",
       "      <th>37129367</th>\n",
       "      <td>0.142157</td>\n",
       "      <td>0.0</td>\n",
       "      <td>0.0</td>\n",
       "      <td>0.147959</td>\n",
       "      <td>5.167148e-06</td>\n",
       "      <td>0.0</td>\n",
       "      <td>0.0</td>\n",
       "      <td>0.000000</td>\n",
       "      <td>5.123612e-06</td>\n",
       "      <td>0</td>\n",
       "    </tr>\n",
       "    <tr>\n",
       "      <th>31904710</th>\n",
       "      <td>0.000000</td>\n",
       "      <td>0.0</td>\n",
       "      <td>0.0</td>\n",
       "      <td>0.000000</td>\n",
       "      <td>1.065261e-06</td>\n",
       "      <td>0.0</td>\n",
       "      <td>0.0</td>\n",
       "      <td>0.000000</td>\n",
       "      <td>2.145554e-07</td>\n",
       "      <td>0</td>\n",
       "    </tr>\n",
       "    <tr>\n",
       "      <th>...</th>\n",
       "      <td>...</td>\n",
       "      <td>...</td>\n",
       "      <td>...</td>\n",
       "      <td>...</td>\n",
       "      <td>...</td>\n",
       "      <td>...</td>\n",
       "      <td>...</td>\n",
       "      <td>...</td>\n",
       "      <td>...</td>\n",
       "      <td>...</td>\n",
       "    </tr>\n",
       "    <tr>\n",
       "      <th>31104928</th>\n",
       "      <td>0.000000</td>\n",
       "      <td>0.0</td>\n",
       "      <td>0.0</td>\n",
       "      <td>0.000000</td>\n",
       "      <td>2.628095e-06</td>\n",
       "      <td>0.0</td>\n",
       "      <td>0.0</td>\n",
       "      <td>0.000000</td>\n",
       "      <td>1.128155e-06</td>\n",
       "      <td>0</td>\n",
       "    </tr>\n",
       "    <tr>\n",
       "      <th>38699158</th>\n",
       "      <td>0.000000</td>\n",
       "      <td>0.0</td>\n",
       "      <td>0.0</td>\n",
       "      <td>0.045918</td>\n",
       "      <td>1.284506e-06</td>\n",
       "      <td>0.0</td>\n",
       "      <td>0.0</td>\n",
       "      <td>0.125000</td>\n",
       "      <td>1.001078e-06</td>\n",
       "      <td>0</td>\n",
       "    </tr>\n",
       "    <tr>\n",
       "      <th>37435274</th>\n",
       "      <td>0.000000</td>\n",
       "      <td>0.0</td>\n",
       "      <td>0.0</td>\n",
       "      <td>0.000000</td>\n",
       "      <td>1.144383e-06</td>\n",
       "      <td>0.0</td>\n",
       "      <td>0.0</td>\n",
       "      <td>0.000000</td>\n",
       "      <td>6.569762e-05</td>\n",
       "      <td>0</td>\n",
       "    </tr>\n",
       "    <tr>\n",
       "      <th>36145194</th>\n",
       "      <td>0.000000</td>\n",
       "      <td>0.0</td>\n",
       "      <td>0.0</td>\n",
       "      <td>0.000000</td>\n",
       "      <td>4.399527e-06</td>\n",
       "      <td>0.0</td>\n",
       "      <td>0.0</td>\n",
       "      <td>0.000000</td>\n",
       "      <td>4.098911e-05</td>\n",
       "      <td>0</td>\n",
       "    </tr>\n",
       "    <tr>\n",
       "      <th>37156247</th>\n",
       "      <td>0.000000</td>\n",
       "      <td>0.0</td>\n",
       "      <td>0.0</td>\n",
       "      <td>0.147959</td>\n",
       "      <td>4.194317e-06</td>\n",
       "      <td>0.0</td>\n",
       "      <td>0.0</td>\n",
       "      <td>0.062500</td>\n",
       "      <td>3.986341e-06</td>\n",
       "      <td>0</td>\n",
       "    </tr>\n",
       "  </tbody>\n",
       "</table>\n",
       "<p>310000 rows × 10 columns</p>\n",
       "</div>"
      ],
      "text/plain": [
       "             DPD_term_loan_H2  Default_flag_H1  Default_flag_H2  \\\n",
       "Customer_id                                                       \n",
       "33344475             0.000000              0.0              0.0   \n",
       "38290809             0.000000              0.0              0.0   \n",
       "33178125             0.049020              0.0              0.0   \n",
       "37129367             0.142157              0.0              0.0   \n",
       "31904710             0.000000              0.0              0.0   \n",
       "...                       ...              ...              ...   \n",
       "31104928             0.000000              0.0              0.0   \n",
       "38699158             0.000000              0.0              0.0   \n",
       "37435274             0.000000              0.0              0.0   \n",
       "36145194             0.000000              0.0              0.0   \n",
       "37156247             0.000000              0.0              0.0   \n",
       "\n",
       "             DPD_term_loan_H3  incPerSavingsAccountBalance0  Default_flag_H3  \\\n",
       "Customer_id                                                                    \n",
       "33344475             0.000000                  6.109295e-07              0.0   \n",
       "38290809             0.000000                  2.693348e-05              0.0   \n",
       "33178125             0.000000                  2.780520e-07              0.0   \n",
       "37129367             0.147959                  5.167148e-06              0.0   \n",
       "31904710             0.000000                  1.065261e-06              0.0   \n",
       "...                       ...                           ...              ...   \n",
       "31104928             0.000000                  2.628095e-06              0.0   \n",
       "38699158             0.045918                  1.284506e-06              0.0   \n",
       "37435274             0.000000                  1.144383e-06              0.0   \n",
       "36145194             0.000000                  4.399527e-06              0.0   \n",
       "37156247             0.147959                  4.194317e-06              0.0   \n",
       "\n",
       "             Default_flag_H4  DPD_term_loan_H6  incPerCurrentAccountBalance2  \\\n",
       "Customer_id                                                                    \n",
       "33344475                 0.0          0.130682                  1.946370e-06   \n",
       "38290809                 0.0          0.153409                  5.684466e-06   \n",
       "33178125                 0.0          0.000000                  2.118406e-06   \n",
       "37129367                 0.0          0.000000                  5.123612e-06   \n",
       "31904710                 0.0          0.000000                  2.145554e-07   \n",
       "...                      ...               ...                           ...   \n",
       "31104928                 0.0          0.000000                  1.128155e-06   \n",
       "38699158                 0.0          0.125000                  1.001078e-06   \n",
       "37435274                 0.0          0.000000                  6.569762e-05   \n",
       "36145194                 0.0          0.000000                  4.098911e-05   \n",
       "37156247                 0.0          0.062500                  3.986341e-06   \n",
       "\n",
       "             Target  \n",
       "Customer_id          \n",
       "33344475          0  \n",
       "38290809          0  \n",
       "33178125          0  \n",
       "37129367          0  \n",
       "31904710          0  \n",
       "...             ...  \n",
       "31104928          0  \n",
       "38699158          0  \n",
       "37435274          0  \n",
       "36145194          0  \n",
       "37156247          0  \n",
       "\n",
       "[310000 rows x 10 columns]"
      ]
     },
     "execution_count": 18,
     "metadata": {},
     "output_type": "execute_result"
    }
   ],
   "source": [
    "data"
   ]
  },
  {
   "cell_type": "code",
   "execution_count": 19,
   "id": "1d79e6e3-6bf9-476b-89bc-f86f4668872c",
   "metadata": {},
   "outputs": [
    {
     "data": {
      "text/plain": [
       "'Start of the training of the model.'"
      ]
     },
     "execution_count": 19,
     "metadata": {},
     "output_type": "execute_result"
    }
   ],
   "source": [
    "train(user, password, 150, 64, 0.05, \"Eva\", \"SU2U4\")\n",
    "\n",
    "check_status(user, password)"
   ]
  },
  {
   "cell_type": "code",
   "execution_count": 22,
   "id": "ab82573c-c372-44a5-85c8-607af325882c",
   "metadata": {},
   "outputs": [],
   "source": [
    "params = get_parameters(user, password)"
   ]
  },
  {
   "cell_type": "code",
   "execution_count": 34,
   "id": "804d7415-be19-4b22-8b01-a45fbcacb03c",
   "metadata": {},
   "outputs": [
    {
     "data": {
      "text/plain": [
       "'OK'"
      ]
     },
     "execution_count": 34,
     "metadata": {},
     "output_type": "execute_result"
    }
   ],
   "source": [
    "train(user, password, 200, 64, 0.05, \"Adam\", \"SU2U4\", params=params,\n",
    "      beta=0.26, beta2=0.8)"
   ]
  },
  {
   "cell_type": "code",
   "execution_count": 40,
   "id": "8eeb05d7-4d9d-4530-ba5d-b31d7dd3b052",
   "metadata": {},
   "outputs": [
    {
     "data": {
      "text/plain": [
       "'The model was trained correctly.'"
      ]
     },
     "execution_count": 40,
     "metadata": {},
     "output_type": "execute_result"
    }
   ],
   "source": [
    "check_status(user, password)"
   ]
  },
  {
   "cell_type": "code",
   "execution_count": 41,
   "id": "8e13e2a1-f7a5-49f9-ab9b-afd83e9b9ecc",
   "metadata": {},
   "outputs": [],
   "source": [
    "params = get_parameters(user, password)"
   ]
  },
  {
   "cell_type": "code",
   "execution_count": 60,
   "id": "3bd5dc84-4a81-4265-b785-bdc73595bc6e",
   "metadata": {},
   "outputs": [
    {
     "data": {
      "text/plain": [
       "'OK'"
      ]
     },
     "execution_count": 60,
     "metadata": {},
     "output_type": "execute_result"
    }
   ],
   "source": [
    "validate(user, password, \"ccc2.csv\",\n",
    "         [\"DPD_term_loan_H2\",\"Default_flag_H1\",\"Default_flag_H2\",\"DPD_term_loan_H3\",\"incPerSavingsAccountBalance0\",\"Default_flag_H3\",\"Default_flag_H4\",\"DPD_term_loan_H6\",\"incPerCurrentAccountBalance2\"],\n",
    "         \"Target\", \"SU2U4\", params)"
   ]
  },
  {
   "cell_type": "code",
   "execution_count": 62,
   "id": "7c1b23c6-85bc-4e9a-a488-996d71e54c10",
   "metadata": {},
   "outputs": [
    {
     "data": {
      "text/plain": [
       "'Accuracy=0.832175, precision=0.27010247587702896, recall=0.4960846270092046, AUC=0.7464277518305716'"
      ]
     },
     "execution_count": 62,
     "metadata": {},
     "output_type": "execute_result"
    }
   ],
   "source": [
    "check_status(user, password)"
   ]
  },
  {
   "cell_type": "code",
   "execution_count": null,
   "id": "4648bd68-8446-42b7-abfa-67616556b939",
   "metadata": {},
   "outputs": [],
   "source": []
  }
 ],
 "metadata": {
  "kernelspec": {
   "display_name": "base (qiskit)",
   "language": "python",
   "name": "base"
  },
  "language_info": {
   "codemirror_mode": {
    "name": "ipython",
    "version": 3
   },
   "file_extension": ".py",
   "mimetype": "text/x-python",
   "name": "python",
   "nbconvert_exporter": "python",
   "pygments_lexer": "ipython3",
   "version": "3.11.7"
  }
 },
 "nbformat": 4,
 "nbformat_minor": 5
}
