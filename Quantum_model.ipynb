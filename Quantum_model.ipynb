{
 "cells": [
  {
   "cell_type": "code",
   "execution_count": 1,
   "id": "52c98b2b-513f-4128-a18d-ff5a75022b60",
   "metadata": {},
   "outputs": [],
   "source": [
    "import numpy as np\n",
    "import pandas as pd\n",
    "#import scorecardpy as sc\n",
    "import matplotlib.pyplot as plt\n",
    "from sklearn.preprocessing import MinMaxScaler"
   ]
  },
  {
   "cell_type": "code",
   "execution_count": 2,
   "id": "f6a2c625-8953-4121-8b8b-7e05b03a97f6",
   "metadata": {},
   "outputs": [],
   "source": [
    "from PythonAPI import *"
   ]
  },
  {
   "cell_type": "code",
   "execution_count": 3,
   "id": "3e11fed5-9feb-4260-ab7d-92e743ee7a53",
   "metadata": {},
   "outputs": [
    {
     "data": {
      "text/plain": [
       "'OK'"
      ]
     },
     "execution_count": 3,
     "metadata": {},
     "output_type": "execute_result"
    }
   ],
   "source": [
    "check_connection()"
   ]
  },
  {
   "cell_type": "code",
   "execution_count": 4,
   "id": "5bed8883-8550-4ba1-b5d4-553806ce6aa5",
   "metadata": {},
   "outputs": [],
   "source": [
    "user = \"team13\"\n",
    "password = \"tS2KbTei]b84\""
   ]
  },
  {
   "cell_type": "code",
   "execution_count": 5,
   "id": "958922c3-b83b-4a6f-870d-06751ee8b2ba",
   "metadata": {},
   "outputs": [
    {
     "data": {
      "text/plain": [
       "''"
      ]
     },
     "execution_count": 5,
     "metadata": {},
     "output_type": "execute_result"
    }
   ],
   "source": [
    "check_status(user, password)"
   ]
  },
  {
   "cell_type": "code",
   "execution_count": 6,
   "id": "00b29175-ebc3-4887-92f5-697f81daa3d0",
   "metadata": {},
   "outputs": [],
   "source": [
    "train = pd.read_csv(\"datasets/in_time.csv\")\n",
    "oot = pd.read_csv(\"datasets/out_of_time.csv\")"
   ]
  },
  {
   "cell_type": "code",
   "execution_count": 7,
   "id": "22ab3c7e-d61d-4499-993e-b4ec197a031a",
   "metadata": {},
   "outputs": [
    {
     "name": "stdout",
     "output_type": "stream",
     "text": [
      "0         0\n",
      "1         0\n",
      "2         0\n",
      "3         0\n",
      "4         0\n",
      "         ..\n",
      "309995    0\n",
      "309996    0\n",
      "309997    0\n",
      "309998    0\n",
      "309999    0\n",
      "Name: Target, Length: 310000, dtype: int64\n"
     ]
    }
   ],
   "source": [
    "print(train[\"Target\"])"
   ]
  },
  {
   "cell_type": "code",
   "execution_count": 10,
   "id": "c5965de4-3a28-411f-9fe0-7fd647110e65",
   "metadata": {},
   "outputs": [
    {
     "name": "stdout",
     "output_type": "stream",
     "text": [
      "0         0\n",
      "1         0\n",
      "2         0\n",
      "3         0\n",
      "4         0\n",
      "         ..\n",
      "309995    0\n",
      "309996    0\n",
      "309997    0\n",
      "309998    0\n",
      "309999    0\n",
      "Name: Target, Length: 310000, dtype: int64\n"
     ]
    }
   ],
   "source": [
    "from data_preparation.data_preparation import transform_data\n",
    "\n",
    "train2 = transform_data(train)\n",
    "print(train[\"Target\"])"
   ]
  },
  {
   "cell_type": "code",
   "execution_count": 13,
   "id": "9a8293d4-c09e-4f2f-81e7-af9444e1ec30",
   "metadata": {},
   "outputs": [],
   "source": [
    "x, y = train2"
   ]
  },
  {
   "cell_type": "code",
   "execution_count": 19,
   "id": "8d606abd-60c7-4647-bef6-9b63fbdb451b",
   "metadata": {},
   "outputs": [],
   "source": [
    "train2 = pd.concat([x,y], axis=1)"
   ]
  },
  {
   "cell_type": "code",
   "execution_count": 23,
   "id": "c7f955a4-245f-483e-b466-67368ec86053",
   "metadata": {},
   "outputs": [],
   "source": [
    "scaler = MinMaxScaler()\n",
    "scaled_data = scaler.fit_transform(train2.drop(columns=['Target']))\n",
    "scaled_data = pd.DataFrame(scaled_data)\n",
    "train3 = pd.concat([scaled_data,y], axis=1)\n",
    "\n",
    "csv_file_path = \"/Users/karol/Desktop/jd.csv\"\n",
    "\n",
    "train3.to_csv(csv_file_path, index=False)"
   ]
  },
  {
   "cell_type": "code",
   "execution_count": 38,
   "id": "b0353420-962c-4778-a89a-dfc4c96166dd",
   "metadata": {},
   "outputs": [
    {
     "ename": "TypeError",
     "evalue": "Object of type Series is not JSON serializable",
     "output_type": "error",
     "traceback": [
      "\u001b[0;31m---------------------------------------------------------------------------\u001b[0m",
      "\u001b[0;31mTypeError\u001b[0m                                 Traceback (most recent call last)",
      "Cell \u001b[0;32mIn[38], line 1\u001b[0m\n\u001b[0;32m----> 1\u001b[0m load_data(user, password, \u001b[38;5;124m\"\u001b[39m\u001b[38;5;124mjd.csv\u001b[39m\u001b[38;5;124m\"\u001b[39m,\n\u001b[1;32m      2\u001b[0m          [\u001b[38;5;124m\"\u001b[39m\u001b[38;5;124mDefault_flag_H3\u001b[39m\u001b[38;5;124m\"\u001b[39m],\n\u001b[1;32m      3\u001b[0m          train[\u001b[38;5;124m\"\u001b[39m\u001b[38;5;124mTarget\u001b[39m\u001b[38;5;124m\"\u001b[39m])\n\u001b[1;32m      5\u001b[0m check_status(user, password)\n",
      "File \u001b[0;32m~/Desktop/Git/ING-den-final/PythonAPI.py:39\u001b[0m, in \u001b[0;36mload_data\u001b[0;34m(user, password, filename, x_variable, y_variable)\u001b[0m\n\u001b[1;32m     31\u001b[0m \u001b[38;5;28;01mdef\u001b[39;00m \u001b[38;5;21mload_data\u001b[39m(user, password, filename, x_variable, y_variable):\n\u001b[1;32m     32\u001b[0m     body \u001b[38;5;241m=\u001b[39m {\n\u001b[1;32m     33\u001b[0m         \u001b[38;5;124m\"\u001b[39m\u001b[38;5;124muser\u001b[39m\u001b[38;5;124m\"\u001b[39m: user,\n\u001b[1;32m     34\u001b[0m         \u001b[38;5;124m\"\u001b[39m\u001b[38;5;124mpassword\u001b[39m\u001b[38;5;124m\"\u001b[39m: password,\n\u001b[0;32m   (...)\u001b[0m\n\u001b[1;32m     37\u001b[0m         \u001b[38;5;124m\"\u001b[39m\u001b[38;5;124my_variable\u001b[39m\u001b[38;5;124m\"\u001b[39m: y_variable\n\u001b[1;32m     38\u001b[0m     }\n\u001b[0;32m---> 39\u001b[0m     res \u001b[38;5;241m=\u001b[39m send_request(\u001b[38;5;124m\"\u001b[39m\u001b[38;5;124mload\u001b[39m\u001b[38;5;124m\"\u001b[39m, body)\n\u001b[1;32m     40\u001b[0m     \u001b[38;5;28;01mreturn\u001b[39;00m res[\u001b[38;5;124m\"\u001b[39m\u001b[38;5;124mmessage\u001b[39m\u001b[38;5;124m\"\u001b[39m]\n",
      "File \u001b[0;32m~/Desktop/Git/ING-den-final/PythonAPI.py:15\u001b[0m, in \u001b[0;36msend_request\u001b[0;34m(url, body)\u001b[0m\n\u001b[1;32m     13\u001b[0m     response \u001b[38;5;241m=\u001b[39m requests\u001b[38;5;241m.\u001b[39mpost(full_url)\n\u001b[1;32m     14\u001b[0m \u001b[38;5;28;01melse\u001b[39;00m:\n\u001b[0;32m---> 15\u001b[0m     response \u001b[38;5;241m=\u001b[39m requests\u001b[38;5;241m.\u001b[39mpost(full_url, headers\u001b[38;5;241m=\u001b[39mheaders, data\u001b[38;5;241m=\u001b[39mjson\u001b[38;5;241m.\u001b[39mdumps(body))\n\u001b[1;32m     17\u001b[0m \u001b[38;5;28;01mif\u001b[39;00m response\u001b[38;5;241m.\u001b[39mstatus_code \u001b[38;5;241m!=\u001b[39m \u001b[38;5;241m200\u001b[39m:\n\u001b[1;32m     18\u001b[0m     \u001b[38;5;28;01mreturn\u001b[39;00m \u001b[38;5;124m\"\u001b[39m\u001b[38;5;124mHTTP error status!\u001b[39m\u001b[38;5;124m\"\u001b[39m\n",
      "File \u001b[0;32m/opt/anaconda3/lib/python3.11/json/__init__.py:231\u001b[0m, in \u001b[0;36mdumps\u001b[0;34m(obj, skipkeys, ensure_ascii, check_circular, allow_nan, cls, indent, separators, default, sort_keys, **kw)\u001b[0m\n\u001b[1;32m    226\u001b[0m \u001b[38;5;66;03m# cached encoder\u001b[39;00m\n\u001b[1;32m    227\u001b[0m \u001b[38;5;28;01mif\u001b[39;00m (\u001b[38;5;129;01mnot\u001b[39;00m skipkeys \u001b[38;5;129;01mand\u001b[39;00m ensure_ascii \u001b[38;5;129;01mand\u001b[39;00m\n\u001b[1;32m    228\u001b[0m     check_circular \u001b[38;5;129;01mand\u001b[39;00m allow_nan \u001b[38;5;129;01mand\u001b[39;00m\n\u001b[1;32m    229\u001b[0m     \u001b[38;5;28mcls\u001b[39m \u001b[38;5;129;01mis\u001b[39;00m \u001b[38;5;28;01mNone\u001b[39;00m \u001b[38;5;129;01mand\u001b[39;00m indent \u001b[38;5;129;01mis\u001b[39;00m \u001b[38;5;28;01mNone\u001b[39;00m \u001b[38;5;129;01mand\u001b[39;00m separators \u001b[38;5;129;01mis\u001b[39;00m \u001b[38;5;28;01mNone\u001b[39;00m \u001b[38;5;129;01mand\u001b[39;00m\n\u001b[1;32m    230\u001b[0m     default \u001b[38;5;129;01mis\u001b[39;00m \u001b[38;5;28;01mNone\u001b[39;00m \u001b[38;5;129;01mand\u001b[39;00m \u001b[38;5;129;01mnot\u001b[39;00m sort_keys \u001b[38;5;129;01mand\u001b[39;00m \u001b[38;5;129;01mnot\u001b[39;00m kw):\n\u001b[0;32m--> 231\u001b[0m     \u001b[38;5;28;01mreturn\u001b[39;00m _default_encoder\u001b[38;5;241m.\u001b[39mencode(obj)\n\u001b[1;32m    232\u001b[0m \u001b[38;5;28;01mif\u001b[39;00m \u001b[38;5;28mcls\u001b[39m \u001b[38;5;129;01mis\u001b[39;00m \u001b[38;5;28;01mNone\u001b[39;00m:\n\u001b[1;32m    233\u001b[0m     \u001b[38;5;28mcls\u001b[39m \u001b[38;5;241m=\u001b[39m JSONEncoder\n",
      "File \u001b[0;32m/opt/anaconda3/lib/python3.11/json/encoder.py:200\u001b[0m, in \u001b[0;36mJSONEncoder.encode\u001b[0;34m(self, o)\u001b[0m\n\u001b[1;32m    196\u001b[0m         \u001b[38;5;28;01mreturn\u001b[39;00m encode_basestring(o)\n\u001b[1;32m    197\u001b[0m \u001b[38;5;66;03m# This doesn't pass the iterator directly to ''.join() because the\u001b[39;00m\n\u001b[1;32m    198\u001b[0m \u001b[38;5;66;03m# exceptions aren't as detailed.  The list call should be roughly\u001b[39;00m\n\u001b[1;32m    199\u001b[0m \u001b[38;5;66;03m# equivalent to the PySequence_Fast that ''.join() would do.\u001b[39;00m\n\u001b[0;32m--> 200\u001b[0m chunks \u001b[38;5;241m=\u001b[39m \u001b[38;5;28mself\u001b[39m\u001b[38;5;241m.\u001b[39miterencode(o, _one_shot\u001b[38;5;241m=\u001b[39m\u001b[38;5;28;01mTrue\u001b[39;00m)\n\u001b[1;32m    201\u001b[0m \u001b[38;5;28;01mif\u001b[39;00m \u001b[38;5;129;01mnot\u001b[39;00m \u001b[38;5;28misinstance\u001b[39m(chunks, (\u001b[38;5;28mlist\u001b[39m, \u001b[38;5;28mtuple\u001b[39m)):\n\u001b[1;32m    202\u001b[0m     chunks \u001b[38;5;241m=\u001b[39m \u001b[38;5;28mlist\u001b[39m(chunks)\n",
      "File \u001b[0;32m/opt/anaconda3/lib/python3.11/json/encoder.py:258\u001b[0m, in \u001b[0;36mJSONEncoder.iterencode\u001b[0;34m(self, o, _one_shot)\u001b[0m\n\u001b[1;32m    253\u001b[0m \u001b[38;5;28;01melse\u001b[39;00m:\n\u001b[1;32m    254\u001b[0m     _iterencode \u001b[38;5;241m=\u001b[39m _make_iterencode(\n\u001b[1;32m    255\u001b[0m         markers, \u001b[38;5;28mself\u001b[39m\u001b[38;5;241m.\u001b[39mdefault, _encoder, \u001b[38;5;28mself\u001b[39m\u001b[38;5;241m.\u001b[39mindent, floatstr,\n\u001b[1;32m    256\u001b[0m         \u001b[38;5;28mself\u001b[39m\u001b[38;5;241m.\u001b[39mkey_separator, \u001b[38;5;28mself\u001b[39m\u001b[38;5;241m.\u001b[39mitem_separator, \u001b[38;5;28mself\u001b[39m\u001b[38;5;241m.\u001b[39msort_keys,\n\u001b[1;32m    257\u001b[0m         \u001b[38;5;28mself\u001b[39m\u001b[38;5;241m.\u001b[39mskipkeys, _one_shot)\n\u001b[0;32m--> 258\u001b[0m \u001b[38;5;28;01mreturn\u001b[39;00m _iterencode(o, \u001b[38;5;241m0\u001b[39m)\n",
      "File \u001b[0;32m/opt/anaconda3/lib/python3.11/json/encoder.py:180\u001b[0m, in \u001b[0;36mJSONEncoder.default\u001b[0;34m(self, o)\u001b[0m\n\u001b[1;32m    161\u001b[0m \u001b[38;5;28;01mdef\u001b[39;00m \u001b[38;5;21mdefault\u001b[39m(\u001b[38;5;28mself\u001b[39m, o):\n\u001b[1;32m    162\u001b[0m \u001b[38;5;250m    \u001b[39m\u001b[38;5;124;03m\"\"\"Implement this method in a subclass such that it returns\u001b[39;00m\n\u001b[1;32m    163\u001b[0m \u001b[38;5;124;03m    a serializable object for ``o``, or calls the base implementation\u001b[39;00m\n\u001b[1;32m    164\u001b[0m \u001b[38;5;124;03m    (to raise a ``TypeError``).\u001b[39;00m\n\u001b[0;32m   (...)\u001b[0m\n\u001b[1;32m    178\u001b[0m \n\u001b[1;32m    179\u001b[0m \u001b[38;5;124;03m    \"\"\"\u001b[39;00m\n\u001b[0;32m--> 180\u001b[0m     \u001b[38;5;28;01mraise\u001b[39;00m \u001b[38;5;167;01mTypeError\u001b[39;00m(\u001b[38;5;124mf\u001b[39m\u001b[38;5;124m'\u001b[39m\u001b[38;5;124mObject of type \u001b[39m\u001b[38;5;132;01m{\u001b[39;00mo\u001b[38;5;241m.\u001b[39m\u001b[38;5;18m__class__\u001b[39m\u001b[38;5;241m.\u001b[39m\u001b[38;5;18m__name__\u001b[39m\u001b[38;5;132;01m}\u001b[39;00m\u001b[38;5;124m \u001b[39m\u001b[38;5;124m'\u001b[39m\n\u001b[1;32m    181\u001b[0m                     \u001b[38;5;124mf\u001b[39m\u001b[38;5;124m'\u001b[39m\u001b[38;5;124mis not JSON serializable\u001b[39m\u001b[38;5;124m'\u001b[39m)\n",
      "\u001b[0;31mTypeError\u001b[0m: Object of type Series is not JSON serializable"
     ]
    }
   ],
   "source": [
    "load_data(user, password, \"jd.csv\",\n",
    "         [\"Default_flag_H3\"],\n",
    "         \"Target\")\n",
    "\n",
    "check_status(user, password)"
   ]
  },
  {
   "cell_type": "code",
   "execution_count": null,
   "id": "1d79e6e3-6bf9-476b-89bc-f86f4668872c",
   "metadata": {},
   "outputs": [],
   "source": [
    "train(user, password, 100, 100, 0.1, \"Eva\", \"SU2U4\")\n",
    "\n",
    "check_status(user, password)"
   ]
  },
  {
   "cell_type": "code",
   "execution_count": null,
   "id": "ab82573c-c372-44a5-85c8-607af325882c",
   "metadata": {},
   "outputs": [],
   "source": [
    "params = get_parameters(user, password)"
   ]
  },
  {
   "cell_type": "code",
   "execution_count": null,
   "id": "804d7415-be19-4b22-8b01-a45fbcacb03c",
   "metadata": {},
   "outputs": [],
   "source": [
    "train(user, password, 100, 100, 0.1, \"Adam\", \"SU2U4\", params=params,\n",
    "      beta=0.1, beta2=0.1)"
   ]
  },
  {
   "cell_type": "code",
   "execution_count": null,
   "id": "8eeb05d7-4d9d-4530-ba5d-b31d7dd3b052",
   "metadata": {},
   "outputs": [],
   "source": [
    "check_status(user, password)"
   ]
  },
  {
   "cell_type": "code",
   "execution_count": null,
   "id": "8e13e2a1-f7a5-49f9-ab9b-afd83e9b9ecc",
   "metadata": {},
   "outputs": [],
   "source": [
    "params = get_parameters(user, password)"
   ]
  },
  {
   "cell_type": "code",
   "execution_count": null,
   "id": "3bd5dc84-4a81-4265-b785-bdc73595bc6e",
   "metadata": {},
   "outputs": [],
   "source": [
    "validate(user, password, \"testData.csv\",\n",
    "         [\"Dependents\", \"Education\", \"Self_Employed\", \"ApplicantIncome\", \"CoapplicantIncome\", \"LoanAmount\", \"Loan_Amount_Term\", \"Credit_History\", \"Property_Area\"],\n",
    "         \"Loan_Status\", \"SU2U4\", params)"
   ]
  },
  {
   "cell_type": "code",
   "execution_count": null,
   "id": "7c1b23c6-85bc-4e9a-a488-996d71e54c10",
   "metadata": {},
   "outputs": [],
   "source": [
    "check_status(user, password)"
   ]
  },
  {
   "cell_type": "code",
   "execution_count": null,
   "id": "4648bd68-8446-42b7-abfa-67616556b939",
   "metadata": {},
   "outputs": [],
   "source": []
  }
 ],
 "metadata": {
  "kernelspec": {
   "display_name": "base (qiskit)",
   "language": "python",
   "name": "base"
  },
  "language_info": {
   "codemirror_mode": {
    "name": "ipython",
    "version": 3
   },
   "file_extension": ".py",
   "mimetype": "text/x-python",
   "name": "python",
   "nbconvert_exporter": "python",
   "pygments_lexer": "ipython3",
   "version": "3.11.7"
  }
 },
 "nbformat": 4,
 "nbformat_minor": 5
}
