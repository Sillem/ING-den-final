{
 "cells": [
  {
   "cell_type": "markdown",
   "metadata": {},
   "source": [
    "# ING Den - final challenge\n",
    "## Neuralna Ekipa\n",
    "\n",
    "In this notebook we will do preliminary analysis of the dataset."
   ]
  },
  {
   "cell_type": "code",
   "execution_count": 1,
   "metadata": {},
   "outputs": [],
   "source": [
    "import pandas as pd\n",
    "\n",
    "train_data = pd.read_csv('./datasets/in_time.csv')\n"
   ]
  },
  {
   "cell_type": "markdown",
   "metadata": {},
   "source": [
    "How much data did we recieve? "
   ]
  },
  {
   "cell_type": "code",
   "execution_count": 9,
   "metadata": {},
   "outputs": [
    {
     "data": {
      "text/plain": [
       "(310000, 307)"
      ]
     },
     "execution_count": 9,
     "metadata": {},
     "output_type": "execute_result"
    }
   ],
   "source": [
    "train_data.shape"
   ]
  },
  {
   "cell_type": "code",
   "execution_count": 10,
   "metadata": {},
   "outputs": [],
   "source": [
    "X_train, y_train = train_data.drop(['Target'], axis=1), train_data['Target']"
   ]
  },
  {
   "cell_type": "markdown",
   "metadata": {},
   "source": [
    "We recieved 310k observation with 307 features each. But as we know from Data dictionary attached to the task, we know that in fact there are only 44 real features with the rest being lagged versions of these. We will try to extract names of columns automatically based on Data_disctionary.xlsx file."
   ]
  },
  {
   "cell_type": "code",
   "execution_count": 11,
   "metadata": {},
   "outputs": [],
   "source": [
    "real_variables_columns = pd.read_excel('Data_dictionary.xlsx').iloc[:42, :]"
   ]
  },
  {
   "cell_type": "code",
   "execution_count": 12,
   "metadata": {},
   "outputs": [
    {
     "data": {
      "text/plain": [
       "Index(['Ref_month', 'Customer_id', 'Birth_date', 'No_dependants',\n",
       "       'Time_in_address', 'Time_in_current_job', 'Credit_cards', 'Debit_cards',\n",
       "       'Active_accounts', 'Oldest_account_date',\n",
       "       ...\n",
       "       'out_transactions_amt_H9', 'out_transactions_amt_H8',\n",
       "       'out_transactions_amt_H7', 'out_transactions_amt_H6',\n",
       "       'out_transactions_amt_H5', 'out_transactions_amt_H4',\n",
       "       'out_transactions_amt_H3', 'out_transactions_amt_H2',\n",
       "       'out_transactions_amt_H1', 'out_transactions_amt_H0'],\n",
       "      dtype='object', length=306)"
      ]
     },
     "execution_count": 12,
     "metadata": {},
     "output_type": "execute_result"
    }
   ],
   "source": [
    "X_train.columns"
   ]
  },
  {
   "cell_type": "code",
   "execution_count": 13,
   "metadata": {},
   "outputs": [
    {
     "data": {
      "text/plain": [
       "Index(['Ref_month', 'Customer_id', 'Birth_date', 'No_dependants',\n",
       "       'Time_in_address', 'Time_in_current_job', 'Credit_cards', 'Debit_cards',\n",
       "       'Active_accounts', 'Oldest_account_date',\n",
       "       ...\n",
       "       'out_transactions_amt_H9', 'out_transactions_amt_H8',\n",
       "       'out_transactions_amt_H7', 'out_transactions_amt_H6',\n",
       "       'out_transactions_amt_H5', 'out_transactions_amt_H4',\n",
       "       'out_transactions_amt_H3', 'out_transactions_amt_H2',\n",
       "       'out_transactions_amt_H1', 'out_transactions_amt_H0'],\n",
       "      dtype='object', length=306)"
      ]
     },
     "execution_count": 13,
     "metadata": {},
     "output_type": "execute_result"
    }
   ],
   "source": [
    "X_train.columns"
   ]
  },
  {
   "cell_type": "code",
   "execution_count": null,
   "metadata": {},
   "outputs": [],
   "source": [
    "types = {k:[] for k in real_variables_columns['Type'].unique()}"
   ]
  },
  {
   "cell_type": "code",
   "execution_count": null,
   "metadata": {},
   "outputs": [],
   "source": [
    "real_variables_columns\n",
    "for feature in real_variables_columns.iterrows():\n",
    "    # all variables with x on the end just land with 1-12\n",
    "    if(feature[1]['Column name*'][-1] =='x'):\n",
    "        for lag in range(13):\n",
    "            types[feature[1]['Type']].append((feature[1]['Column name*'][:-1]+str(lag)).replace(' ', '_'))\n",
    "    else:\n",
    "        types[feature[1]['Type']].append(feature[1]['Column name*'].replace(' ', '_'))\n",
    "\n",
    "for type in types:\n",
    "    for subtype in types[type]:\n",
    "        if not subtype in X_train.columns:\n",
    "            print(subtype)"
   ]
  },
  {
   "cell_type": "markdown",
   "metadata": {},
   "source": [
    "Okay so to summarize, plot below shows how many variables are in each type:"
   ]
  },
  {
   "cell_type": "code",
   "execution_count": null,
   "metadata": {},
   "outputs": [],
   "source": [
    "import matplotlib.pyplot as plt\n",
    "\n",
    "\n",
    "df = pd.DataFrame({k:len(x) for k,x in types.items()}, index=['no. of features'])\n",
    "ax = df.T.plot.bar()\n",
    "plt.title(\"Number of features in each category\")\n",
    "plt.grid(True)\n",
    "\n",
    "for p in ax.patches:\n",
    "    ax.annotate(str(p.get_height()), (p.get_x() * 1.005, p.get_height() * 1.005))\n",
    "\n",
    "plt.show()"
   ]
  },
  {
   "cell_type": "markdown",
   "metadata": {},
   "source": [
    "As we can see, there is 1 variable that contains month, 35 non bound integer variables, 4 date variables with month, 39 variables bounded to 330, 13 binary variables."
   ]
  },
  {
   "cell_type": "markdown",
   "metadata": {},
   "source": [
    "Before next step we will drop obviously random (non-discriminatory variables) using Gini Coefficient (to drop obviously non-discriminatory variables)."
   ]
  },
  {
   "cell_type": "markdown",
   "metadata": {},
   "source": [
    "## Feature engineering"
   ]
  },
  {
   "cell_type": "markdown",
   "metadata": {},
   "source": [
    "In this section we will create new variables by hand, and then we will pass all variables via GiniSelector that will remove purely random (non discriminatory) features."
   ]
  },
  {
   "cell_type": "code",
   "execution_count": null,
   "metadata": {},
   "outputs": [],
   "source": [
    "def create_new_features(X):\n",
    "    # Implicit assumption in place that dataset has the same structure as in the in_time.csv, out_of_time.csv files\n",
    "    print(X['Birth_date'][:-5])\n",
    "\n",
    "create_new_features(X_train)"
   ]
  },
  {
   "cell_type": "code",
   "execution_count": null,
   "metadata": {},
   "outputs": [],
   "source": [
    "from data_preparation.additional_transformers import GiniSelector\n",
    "from sklearn.compose import make_column_transformer\n",
    "\n",
    "\n",
    "\n",
    "gs = GiniSelector(0.01)\n",
    "column_transformer = make_column_transformer(\n",
    "    (gs, types['Float'] + types['Integer'] + types['Integer (0 or 1)'] + types['Integer (0-330)']),\n",
    "    remainder=\"passthrough\"\n",
    ")\n",
    "\n",
    "\n",
    "\n",
    "data_trimmed = column_transformer.fit_transform(X_train, y_train)\n",
    "\n"
   ]
  },
  {
   "cell_type": "code",
   "execution_count": null,
   "metadata": {},
   "outputs": [],
   "source": [
    "data_after_gini = pd.DataFrame(data_trimmed, columns=[x.split('__')[1] for x in column_transformer.get_feature_names_out()])"
   ]
  }
 ],
 "metadata": {
  "kernelspec": {
   "display_name": "Python 3 (ipykernel)",
   "language": "python",
   "name": "python3"
  },
  "language_info": {
   "codemirror_mode": {
    "name": "ipython",
    "version": 3
   },
   "file_extension": ".py",
   "mimetype": "text/x-python",
   "name": "python",
   "nbconvert_exporter": "python",
   "pygments_lexer": "ipython3",
   "version": "3.11.8"
  }
 },
 "nbformat": 4,
 "nbformat_minor": 4
}
