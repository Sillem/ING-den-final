{
 "cells": [
  {
   "cell_type": "markdown",
   "metadata": {},
   "source": [
    "# ING Den - final challenge\n",
    "## Neuralna Ekipa\n",
    "\n",
    "In this notebook we will do preliminary analysis of the dataset."
   ]
  },
  {
   "cell_type": "code",
   "execution_count": 1,
   "metadata": {},
   "outputs": [],
   "source": [
    "import pandas as pd\n",
    "\n",
    "train_data = pd.read_csv('./datasets/in_time.csv')\n"
   ]
  },
  {
   "cell_type": "code",
   "execution_count": 2,
   "metadata": {},
   "outputs": [],
   "source": [
    "import numpy as np"
   ]
  },
  {
   "cell_type": "markdown",
   "metadata": {},
   "source": [
    "How much data did we recieve? "
   ]
  },
  {
   "cell_type": "code",
   "execution_count": 3,
   "metadata": {},
   "outputs": [
    {
     "data": {
      "text/plain": [
       "(310000, 307)"
      ]
     },
     "execution_count": 3,
     "metadata": {},
     "output_type": "execute_result"
    }
   ],
   "source": [
    "train_data.shape"
   ]
  },
  {
   "cell_type": "markdown",
   "metadata": {},
   "source": [
    "We recieved 310k observation with 307 features each. One feature of course is target binary variable, and the rest are features that are listed in Data_dictionary.xlsx. We built then the function, that splits data into specified categories and transform it into usable form. Then we fix -9999 values into NaNs."
   ]
  },
  {
   "cell_type": "code",
   "execution_count": 4,
   "metadata": {},
   "outputs": [],
   "source": [
    "def transform_data_analysis(X : pd.DataFrame):\n",
    "    X = X.copy()\n",
    "    X.set_index(['Customer_id'], inplace=True)\n",
    "    real_variables_columns = pd.read_excel('Data_dictionary.xlsx').iloc[:42, :]\n",
    "    types = {k:[] for k in real_variables_columns['Type'].unique()}\n",
    "    X[X == -9999] = pd.NA\n",
    "    real_variables_columns\n",
    "    for feature in real_variables_columns.iterrows():\n",
    "        # all variables with x on the end just land with 1-12\n",
    "        if feature[1]['Column name*'] == 'Customer_id': continue\n",
    "        if(feature[1]['Column name*'][-1] =='x'):\n",
    "            for lag in range(13):\n",
    "                types[feature[1]['Type']].append((feature[1]['Column name*'][:-1]+str(lag)).replace(' ', '_'))\n",
    "        else:\n",
    "            types[feature[1]['Type']].append(feature[1]['Column name*'].replace(' ', '_'))\n",
    "\n",
    "    # at this time we include only numeric features\n",
    "    return X.drop(['Target'], axis=1), X['Target']"
   ]
  },
  {
   "cell_type": "markdown",
   "metadata": {},
   "source": [
    "Splitting data into exogenic and endogenic variable"
   ]
  },
  {
   "cell_type": "code",
   "execution_count": 5,
   "metadata": {},
   "outputs": [],
   "source": [
    "from data_preparation.data_preparation import transform_data\n",
    "\n",
    "X,y = transform_data(train_data)"
   ]
  },
  {
   "cell_type": "markdown",
   "metadata": {},
   "source": [
    "Is there any missing target variable?"
   ]
  },
  {
   "cell_type": "code",
   "execution_count": 6,
   "metadata": {},
   "outputs": [
    {
     "data": {
      "text/plain": [
       "False"
      ]
     },
     "execution_count": 6,
     "metadata": {},
     "output_type": "execute_result"
    }
   ],
   "source": [
    "y.isna().any()"
   ]
  },
  {
   "cell_type": "markdown",
   "metadata": {},
   "source": [
    "How many variables are missing?"
   ]
  },
  {
   "cell_type": "code",
   "execution_count": 7,
   "metadata": {},
   "outputs": [
    {
     "data": {
      "text/plain": [
       "Series([], dtype: float64)"
      ]
     },
     "execution_count": 7,
     "metadata": {},
     "output_type": "execute_result"
    }
   ],
   "source": [
    "np.mean(X.loc[:, (np.mean(X.isna(), axis=0) > 0).values].isna(), axis=0).sort_values(ascending=False)"
   ]
  },
  {
   "cell_type": "markdown",
   "metadata": {},
   "source": [
    "We can see that 99,9532% of all external data is missing (credit card balance, term loan balance, mortgage balance) we will drop these features.\n",
    "\n",
    "Then we see that also active_credit_lines has missing 88%, so we can create varaible *has_credit_card_lines* but drop this variable.\n",
    "\n",
    "Then we see active_mortgages miss 82% of values, we will do the same as to the previous variable.\n",
    "\n",
    "The two variables (and its' derevatives): limit_in_revolving_loans and utilized_limit_in_revolving_loans miss almost 20%, we will drop those features as it would be difficult to impute them.\n",
    "\n",
    "Features to drop are below:"
   ]
  },
  {
   "cell_type": "code",
   "execution_count": 8,
   "metadata": {},
   "outputs": [],
   "source": [
    "features_to_drop = np.mean(X.loc[:, (np.mean(X.isna(), axis=0) > 0).values].isna(), axis=0).index"
   ]
  },
  {
   "cell_type": "code",
   "execution_count": 9,
   "metadata": {},
   "outputs": [
    {
     "data": {
      "text/plain": [
       "Index([], dtype='object')"
      ]
     },
     "execution_count": 9,
     "metadata": {},
     "output_type": "execute_result"
    }
   ],
   "source": [
    "features_to_drop"
   ]
  },
  {
   "cell_type": "markdown",
   "metadata": {},
   "source": [
    "but first we have to prepare some variables as specified above"
   ]
  },
  {
   "cell_type": "code",
   "execution_count": 10,
   "metadata": {},
   "outputs": [],
   "source": [
    "def transform_data_analysis(X : pd.DataFrame):\n",
    "    X = X.copy()\n",
    "    X.set_index(['Customer_id'], inplace=True)\n",
    "    real_variables_columns = pd.read_excel('Data_dictionary.xlsx').iloc[:42, :]\n",
    "    types = {k:[] for k in real_variables_columns['Type'].unique()}\n",
    "    X[X == -9999] = pd.NA\n",
    "    real_variables_columns\n",
    "    for feature in real_variables_columns.iterrows():\n",
    "        # all variables with x on the end just land with 1-12\n",
    "        if feature[1]['Column name*'] == 'Customer_id': continue\n",
    "        if(feature[1]['Column name*'][-1] =='x'):\n",
    "            for lag in range(13):\n",
    "                types[feature[1]['Type']].append((feature[1]['Column name*'][:-1]+str(lag)).replace(' ', '_'))\n",
    "        else:\n",
    "            types[feature[1]['Type']].append(feature[1]['Column name*'].replace(' ', '_'))\n",
    "    #features_to_drop = (X.loc[:, (np.mean(X.isna(), axis=0) > 0).values].isna()).any().index\n",
    "    features_to_drop = ['Active_mortgages', 'Active_credit_card_lines',\n",
    "       'External_term_loan_balance', 'External_mortgage_balance',\n",
    "       'External_credit_card_balance', 'limit_in_revolving_loans_H12',\n",
    "       'limit_in_revolving_loans_H11', 'limit_in_revolving_loans_H10',\n",
    "       'limit_in_revolving_loans_H9', 'limit_in_revolving_loans_H8',\n",
    "       'limit_in_revolving_loans_H7', 'limit_in_revolving_loans_H6',\n",
    "       'limit_in_revolving_loans_H5', 'limit_in_revolving_loans_H4',\n",
    "       'limit_in_revolving_loans_H3', 'limit_in_revolving_loans_H2',\n",
    "       'limit_in_revolving_loans_H1', 'limit_in_revolving_loans_H0',\n",
    "       'utilized_limit_in_revolving_loans_H12',\n",
    "       'utilized_limit_in_revolving_loans_H11',\n",
    "       'utilized_limit_in_revolving_loans_H10',\n",
    "       'utilized_limit_in_revolving_loans_H9',\n",
    "       'utilized_limit_in_revolving_loans_H8',\n",
    "       'utilized_limit_in_revolving_loans_H7',\n",
    "       'utilized_limit_in_revolving_loans_H6',\n",
    "       'utilized_limit_in_revolving_loans_H5',\n",
    "       'utilized_limit_in_revolving_loans_H4',\n",
    "       'utilized_limit_in_revolving_loans_H3',\n",
    "       'utilized_limit_in_revolving_loans_H2',\n",
    "       'utilized_limit_in_revolving_loans_H1',\n",
    "       'utilized_limit_in_revolving_loans_H0']\n",
    "    types['Created'] = []\n",
    "    \n",
    "    # create features that need missing values\n",
    "    types['Created'].append('hasExternal_credit_card_balance')\n",
    "    types['Created'].append('hasExternal_term_loan_balance')\n",
    "    types['Created'].append('hasExternal_mortgage_balance')\n",
    "    types['Created'].append('hasActive_credit_card_lines')\n",
    "    types['Created'].append('hasActive_mortgages')\n",
    "\n",
    "    X['hasExternal_credit_card_balance'] = ~pd.isna(X['External_credit_card_balance'])\n",
    "    X['hasExternal_term_loan_balance'] = ~pd.isna(X['External_term_loan_balance'])\n",
    "    X['hasExternal_mortgage_balance'] = ~pd.isna(X['External_mortgage_balance'])\n",
    "    X['hasActive_credit_card_lines'] = ~pd.isna(X['Active_credit_card_lines'])\n",
    "    X['hasActive_mortgages'] = ~pd.isna(X['Active_mortgages'])\n",
    "\n",
    "    # here we drop features that are missing, at this point we have \n",
    "    X = X.drop(features_to_drop, axis=1)\n",
    "\n",
    "    create_new_features(X)\n",
    "    \n",
    "    return X.drop(['Target'] + types['MM-YYYY'] + types['DD-MM-YYYY'], axis=1), X['Target']"
   ]
  },
  {
   "cell_type": "markdown",
   "metadata": {},
   "source": [
    "Are there any missing:"
   ]
  },
  {
   "cell_type": "code",
   "execution_count": 13,
   "metadata": {},
   "outputs": [
    {
     "data": {
      "text/plain": [
       "False"
      ]
     },
     "execution_count": 13,
     "metadata": {},
     "output_type": "execute_result"
    }
   ],
   "source": [
    "(transform_data_analysis(train_data)[0].isna().any() >0).any()"
   ]
  },
  {
   "cell_type": "markdown",
   "metadata": {},
   "source": [
    "## Feature engineering"
   ]
  },
  {
   "cell_type": "markdown",
   "metadata": {},
   "source": [
    "In this section we will create new variables by hand. At this stage of pipeline, there should be no missing features in the dataset."
   ]
  },
  {
   "cell_type": "code",
   "execution_count": 12,
   "metadata": {},
   "outputs": [],
   "source": [
    "def create_new_features(X : pd.DataFrame):\n",
    "    # this function will (in a sense) create new features at the stage where we have no missing values\n",
    "    # quartile sum of all incoming transactions\n",
    "    for idx, quarter in enumerate([0, 3, 6, 9]):\n",
    "        X[f\"inc_transactions_Quartile{idx+1}\"] = X[f\"inc_transactions_H{quarter}\"] + X[f\"inc_transactions_H{quarter+1}\"] + X[f\"inc_transactions_H{quarter+2}\"]\n",
    "\n",
    "    # quratile sum of all outcoming transactions\n",
    "    for idx, quarter in enumerate([0, 3, 6, 9]):\n",
    "        X[f\"out_transactions_Quartile{idx+1}\"] = X[f\"out_transactions_H{quarter}\"] + X[f\"out_transactions_H{quarter+1}\"] + X[f\"out_transactions_H{quarter+2}\"]\n",
    "\n",
    "    #quartile sum of values of incoming transactions\n",
    "    for idx, quarter in enumerate([0, 3, 6, 9]):\n",
    "        X[f\"inc_transactions_amt_Quartile{idx+1}\"] = X[f\"inc_transactions_amt_H{quarter}\"] + X[f\"inc_transactions_amt_H{quarter+1}\"] + X[f\"inc_transactions_amt_H{quarter+2}\"]\n",
    "\n",
    "    #quartile sum of values of outcoming transactions\n",
    "    for idx, quarter in enumerate([0, 3, 6, 9]):\n",
    "        X[f\"out_transactions_amt_Quartile{idx+1}\"] = X[f\"out_transactions_amt_H{quarter}\"] + X[f\"out_transactions_amt_H{quarter+1}\"] + X[f\"out_transactions_amt_H{quarter+2}\"]\n",
    "\n",
    "    #quartile sum of os_term_loan\n",
    "    for idx, quarter in enumerate([0, 3, 6, 9]):\n",
    "        X[f\"Os_term_loan_Quartile{idx+1}\"] = X[f\"Os_term_loan_H{quarter}\"] + X[f\"Os_term_loan_H{quarter+1}\"] + X[f\"Os_term_loan_H{quarter+2}\"]\n",
    "\n",
    "    #quartile sum of os_credit_card\n",
    "    for idx, quarter in enumerate([0, 3, 6, 9]):\n",
    "        X[f\"Os_credit_card_Quartile{idx+1}\"] = X[f\"Os_credit_card_H{quarter}\"] + X[f\"Os_term_loan_H{quarter+1}\"] + X[f\"Os_term_loan_H{quarter+2}\"]\n",
    "\n",
    "    #quartile sum of os_mortgage\n",
    "    for idx, quarter in enumerate([0, 3, 6, 9]):\n",
    "        X[f\"Os_mortgage_Quartile{idx+1}\"] = X[f\"Os_mortgage_H{quarter}\"] + X[f\"Os_mortgage_H{quarter+1}\"] + X[f\"Os_mortgage_H{quarter+2}\"]\n",
    "\n",
    "    #time in current job / time in address\n",
    "    X[\"TimeInJobPerTimeInAddress\"] = X[\"Time_in_current_job\"]/X[\"Time_in_address\"]\n",
    "\n",
    "    #percent of incomes that go to current_acount\n",
    "    for month in range(0, 13):\n",
    "        X[f\"incPerCurrentAccountBalance{month}\"] = X[f\"inc_transactions_H{month}\"]/X[f\"Current_amount_balance_H{month}\"]\n",
    "        \n",
    "    #percent of incomes that go to savings_account\n",
    "    for month in range(0, 13):\n",
    "        X[f\"incPerSavingsAccountBalance{month}\"] = X[f\"inc_transactions_H{month}\"]/X[f\"Savings_amount_balance_H{month}\"]\n"
   ]
  },
  {
   "cell_type": "code",
   "execution_count": 14,
   "metadata": {},
   "outputs": [
    {
     "data": {
      "text/plain": [
       "(             No_dependants  Time_in_address  Time_in_current_job  \\\n",
       " Customer_id                                                        \n",
       " 33344475                 0             3.41                 4.13   \n",
       " 38290809                 1             2.28                11.00   \n",
       " 33178125                 1             8.99                 1.73   \n",
       " 37129367                 2             5.55                 1.76   \n",
       " 31904710                 1             4.48                 8.43   \n",
       " ...                    ...              ...                  ...   \n",
       " 31104928                 1             1.92                 0.63   \n",
       " 38699158                 1            19.89                 3.03   \n",
       " 37435274                 3             3.92                 3.90   \n",
       " 36145194                 1            18.38                14.47   \n",
       " 37156247                 1             8.04                 0.60   \n",
       " \n",
       "              Credit_cards  Debit_cards  Active_accounts  Active_loans  \\\n",
       " Customer_id                                                             \n",
       " 33344475                0            2                2             1   \n",
       " 38290809                0            1                1             1   \n",
       " 33178125                1            2                1             1   \n",
       " 37129367                0            1                1             1   \n",
       " 31904710                1            1                1             1   \n",
       " ...                   ...          ...              ...           ...   \n",
       " 31104928                0            1                1             1   \n",
       " 38699158                0            1                2             1   \n",
       " 37435274                0            2                1             1   \n",
       " 36145194                0            1                1             1   \n",
       " 37156247                0            1                1             1   \n",
       " \n",
       "              Num_borrowers  Current_installment  DPD_term_loan_H12  ...  \\\n",
       " Customer_id                                                         ...   \n",
       " 33344475                 1               813.20                  0  ...   \n",
       " 38290809                 1               188.29                  0  ...   \n",
       " 33178125                 1              1008.35                  0  ...   \n",
       " 37129367                 1               222.44                  0  ...   \n",
       " 31904710                 1               581.29                  0  ...   \n",
       " ...                    ...                  ...                ...  ...   \n",
       " 31104928                 1               651.45                  0  ...   \n",
       " 38699158                 1               237.41                  0  ...   \n",
       " 37435274                 2               369.04                  0  ...   \n",
       " 36145194                 2               670.09                  0  ...   \n",
       " 37156247                 2               199.29                  0  ...   \n",
       " \n",
       "              incPerSavingsAccountBalance3  incPerSavingsAccountBalance4  \\\n",
       " Customer_id                                                               \n",
       " 33344475                         0.000313                      0.000193   \n",
       " 38290809                         0.001061                      0.000504   \n",
       " 33178125                         0.000131                      0.000055   \n",
       " 37129367                         0.002117                      0.001787   \n",
       " 31904710                         0.000069                      0.000108   \n",
       " ...                                   ...                           ...   \n",
       " 31104928                         0.000200                      0.000307   \n",
       " 38699158                         0.000062                      0.000167   \n",
       " 37435274                         0.000108                      0.000601   \n",
       " 36145194                         0.000129                      0.000116   \n",
       " 37156247                         0.001115                      0.001198   \n",
       " \n",
       "              incPerSavingsAccountBalance5  incPerSavingsAccountBalance6  \\\n",
       " Customer_id                                                               \n",
       " 33344475                         0.000174                      0.000214   \n",
       " 38290809                         0.001442                      0.001123   \n",
       " 33178125                         0.000097                      0.000101   \n",
       " 37129367                         0.000335                      0.004537   \n",
       " 31904710                         0.000743                      0.000092   \n",
       " ...                                   ...                           ...   \n",
       " 31104928                         0.000423                      0.000971   \n",
       " 38699158                         0.002491                      0.000730   \n",
       " 37435274                         0.005099                      0.007839   \n",
       " 36145194                         0.000110                      0.000164   \n",
       " 37156247                         0.001173                      0.000182   \n",
       " \n",
       "              incPerSavingsAccountBalance7  incPerSavingsAccountBalance8  \\\n",
       " Customer_id                                                               \n",
       " 33344475                         0.000206                      0.000156   \n",
       " 38290809                         0.001364                      0.000632   \n",
       " 33178125                         0.000993                      0.000238   \n",
       " 37129367                         0.001207                      0.000618   \n",
       " 31904710                         0.000089                      0.000044   \n",
       " ...                                   ...                           ...   \n",
       " 31104928                         0.000331                      0.002004   \n",
       " 38699158                         0.000539                      0.000269   \n",
       " 37435274                         0.002114                      0.001226   \n",
       " 36145194                         0.000092                      0.000888   \n",
       " 37156247                         0.000488                      0.001385   \n",
       " \n",
       "              incPerSavingsAccountBalance9  incPerSavingsAccountBalance10  \\\n",
       " Customer_id                                                                \n",
       " 33344475                         0.000192                       0.000528   \n",
       " 38290809                         0.003352                       0.006529   \n",
       " 33178125                         0.000281                       0.000287   \n",
       " 37129367                         0.001100                       0.004338   \n",
       " 31904710                         0.000907                       0.000566   \n",
       " ...                                   ...                            ...   \n",
       " 31104928                         0.000403                       0.008871   \n",
       " 38699158                         0.001277                       0.001135   \n",
       " 37435274                         0.000378                       0.001596   \n",
       " 36145194                         0.000162                       0.004935   \n",
       " 37156247                         0.005261                       0.000553   \n",
       " \n",
       "              incPerSavingsAccountBalance11  incPerSavingsAccountBalance12  \n",
       " Customer_id                                                                \n",
       " 33344475                          0.000752                       0.000838  \n",
       " 38290809                          0.003232                       0.002179  \n",
       " 33178125                          0.000301                       0.000422  \n",
       " 37129367                          0.027933                       0.021410  \n",
       " 31904710                          0.000497                       0.000634  \n",
       " ...                                    ...                            ...  \n",
       " 31104928                          0.008346                       0.000850  \n",
       " 38699158                          0.001870                       0.001657  \n",
       " 37435274                          0.007860                       0.002345  \n",
       " 36145194                          0.000212                       0.000829  \n",
       " 37156247                          0.001408                       0.009124  \n",
       " \n",
       " [310000 rows x 329 columns],\n",
       " Customer_id\n",
       " 33344475    0\n",
       " 38290809    0\n",
       " 33178125    0\n",
       " 37129367    0\n",
       " 31904710    0\n",
       "            ..\n",
       " 31104928    0\n",
       " 38699158    0\n",
       " 37435274    0\n",
       " 36145194    0\n",
       " 37156247    0\n",
       " Name: Target, Length: 310000, dtype: int64)"
      ]
     },
     "execution_count": 14,
     "metadata": {},
     "output_type": "execute_result"
    }
   ],
   "source": [
    "transform_data_analysis(train_data)"
   ]
  }
 ],
 "metadata": {
  "kernelspec": {
   "display_name": "Python 3 (ipykernel)",
   "language": "python",
   "name": "python3"
  },
  "language_info": {
   "codemirror_mode": {
    "name": "ipython",
    "version": 3
   },
   "file_extension": ".py",
   "mimetype": "text/x-python",
   "name": "python",
   "nbconvert_exporter": "python",
   "pygments_lexer": "ipython3",
   "version": "3.11.8"
  }
 },
 "nbformat": 4,
 "nbformat_minor": 4
}
